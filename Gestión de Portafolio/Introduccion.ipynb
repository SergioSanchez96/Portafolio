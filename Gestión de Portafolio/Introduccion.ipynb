{
 "cells": [
  {
   "cell_type": "code",
   "execution_count": 1,
   "metadata": {
    "executionInfo": {
     "elapsed": 2609,
     "status": "ok",
     "timestamp": 1693454188752,
     "user": {
      "displayName": "Sergio Sánchez",
      "userId": "15808066824487995715"
     },
     "user_tz": 300
    },
    "id": "dUy6-WTwZWGr"
   },
   "outputs": [],
   "source": [
    "from pandas_datareader import data as pdr\n",
    "import numpy as np\n",
    "import pandas as pd\n",
    "import datetime as dt\n",
    "import math\n",
    "import seaborn as sb\n",
    "import matplotlib.pyplot as plt\n",
    "import plotly.graph_objects as go #mejores graficos, entre ellas las velas japonesas\n",
    "from scipy.stats import norm\n",
    "import yfinance as yfin\n",
    "yfin.pdr_override()"
   ]
  },
  {
   "cell_type": "code",
   "execution_count": null,
   "metadata": {
    "id": "h68L-2WLZWGw"
   },
   "outputs": [],
   "source": [
    "#pip install pandas-get_data_yahoo"
   ]
  },
  {
   "cell_type": "code",
   "execution_count": 2,
   "metadata": {
    "colab": {
     "base_uri": "https://localhost:8080/",
     "height": 307
    },
    "executionInfo": {
     "elapsed": 4408,
     "status": "ok",
     "timestamp": 1693454193157,
     "user": {
      "displayName": "Sergio Sánchez",
      "userId": "15808066824487995715"
     },
     "user_tz": 300
    },
    "id": "zlA-am8zZWGx",
    "outputId": "4ee3678b-3560-4d7a-99ad-1cb8a8906ef6"
   },
   "outputs": [
    {
     "name": "stdout",
     "output_type": "stream",
     "text": [
      "[*********************100%%**********************]  10 of 10 completed"
     ]
    },
    {
     "name": "stderr",
     "output_type": "stream",
     "text": [
      "ERROR:yfinance:\n",
      "1 Failed download:\n",
      "ERROR:yfinance:['PDRD']: Exception('%ticker%: No timezone found, symbol may be delisted')\n"
     ]
    },
    {
     "name": "stdout",
     "output_type": "stream",
     "text": [
      "\n"
     ]
    },
    {
     "data": {
      "text/html": [
       "\n",
       "  <div id=\"df-06eae45f-9468-4458-803a-b4e4ad9ec458\" class=\"colab-df-container\">\n",
       "    <div>\n",
       "<style scoped>\n",
       "    .dataframe tbody tr th:only-of-type {\n",
       "        vertical-align: middle;\n",
       "    }\n",
       "\n",
       "    .dataframe tbody tr th {\n",
       "        vertical-align: top;\n",
       "    }\n",
       "\n",
       "    .dataframe thead th {\n",
       "        text-align: right;\n",
       "    }\n",
       "</style>\n",
       "<table border=\"1\" class=\"dataframe\">\n",
       "  <thead>\n",
       "    <tr style=\"text-align: right;\">\n",
       "      <th></th>\n",
       "      <th>AAPL</th>\n",
       "      <th>AMZN</th>\n",
       "      <th>F</th>\n",
       "      <th>GOOGL</th>\n",
       "      <th>MSFT</th>\n",
       "      <th>NKE</th>\n",
       "      <th>NVDA</th>\n",
       "      <th>PDRD</th>\n",
       "      <th>TSLA</th>\n",
       "      <th>WMT</th>\n",
       "    </tr>\n",
       "    <tr>\n",
       "      <th>Date</th>\n",
       "      <th></th>\n",
       "      <th></th>\n",
       "      <th></th>\n",
       "      <th></th>\n",
       "      <th></th>\n",
       "      <th></th>\n",
       "      <th></th>\n",
       "      <th></th>\n",
       "      <th></th>\n",
       "      <th></th>\n",
       "    </tr>\n",
       "  </thead>\n",
       "  <tbody>\n",
       "    <tr>\n",
       "      <th>2020-01-02 00:00:00</th>\n",
       "      <td>73.249023</td>\n",
       "      <td>94.900497</td>\n",
       "      <td>8.202946</td>\n",
       "      <td>68.433998</td>\n",
       "      <td>155.093689</td>\n",
       "      <td>98.803711</td>\n",
       "      <td>59.754219</td>\n",
       "      <td>NaN</td>\n",
       "      <td>28.684000</td>\n",
       "      <td>112.085144</td>\n",
       "    </tr>\n",
       "    <tr>\n",
       "      <th>2020-01-03 00:00:00</th>\n",
       "      <td>72.536903</td>\n",
       "      <td>93.748497</td>\n",
       "      <td>8.020079</td>\n",
       "      <td>68.075996</td>\n",
       "      <td>153.162521</td>\n",
       "      <td>98.533020</td>\n",
       "      <td>58.797791</td>\n",
       "      <td>NaN</td>\n",
       "      <td>29.534000</td>\n",
       "      <td>111.095657</td>\n",
       "    </tr>\n",
       "    <tr>\n",
       "      <th>2020-01-06 00:00:00</th>\n",
       "      <td>73.114906</td>\n",
       "      <td>95.143997</td>\n",
       "      <td>7.976537</td>\n",
       "      <td>69.890503</td>\n",
       "      <td>153.558395</td>\n",
       "      <td>98.446014</td>\n",
       "      <td>59.044369</td>\n",
       "      <td>NaN</td>\n",
       "      <td>30.102667</td>\n",
       "      <td>110.869507</td>\n",
       "    </tr>\n",
       "    <tr>\n",
       "      <th>2020-01-07 00:00:00</th>\n",
       "      <td>72.771034</td>\n",
       "      <td>95.343002</td>\n",
       "      <td>8.054909</td>\n",
       "      <td>69.755501</td>\n",
       "      <td>152.158264</td>\n",
       "      <td>98.397675</td>\n",
       "      <td>59.759193</td>\n",
       "      <td>NaN</td>\n",
       "      <td>31.270666</td>\n",
       "      <td>109.842316</td>\n",
       "    </tr>\n",
       "    <tr>\n",
       "      <th>2020-01-08 00:00:00</th>\n",
       "      <td>73.941635</td>\n",
       "      <td>94.598503</td>\n",
       "      <td>8.054909</td>\n",
       "      <td>70.251999</td>\n",
       "      <td>154.581924</td>\n",
       "      <td>98.175323</td>\n",
       "      <td>59.871281</td>\n",
       "      <td>NaN</td>\n",
       "      <td>32.809334</td>\n",
       "      <td>109.465370</td>\n",
       "    </tr>\n",
       "  </tbody>\n",
       "</table>\n",
       "</div>\n",
       "    <div class=\"colab-df-buttons\">\n",
       "\n",
       "  <div class=\"colab-df-container\">\n",
       "    <button class=\"colab-df-convert\" onclick=\"convertToInteractive('df-06eae45f-9468-4458-803a-b4e4ad9ec458')\"\n",
       "            title=\"Convert this dataframe to an interactive table.\"\n",
       "            style=\"display:none;\">\n",
       "\n",
       "  <svg xmlns=\"http://www.w3.org/2000/svg\" height=\"24px\" viewBox=\"0 -960 960 960\">\n",
       "    <path d=\"M120-120v-720h720v720H120Zm60-500h600v-160H180v160Zm220 220h160v-160H400v160Zm0 220h160v-160H400v160ZM180-400h160v-160H180v160Zm440 0h160v-160H620v160ZM180-180h160v-160H180v160Zm440 0h160v-160H620v160Z\"/>\n",
       "  </svg>\n",
       "    </button>\n",
       "\n",
       "  <style>\n",
       "    .colab-df-container {\n",
       "      display:flex;\n",
       "      gap: 12px;\n",
       "    }\n",
       "\n",
       "    .colab-df-convert {\n",
       "      background-color: #E8F0FE;\n",
       "      border: none;\n",
       "      border-radius: 50%;\n",
       "      cursor: pointer;\n",
       "      display: none;\n",
       "      fill: #1967D2;\n",
       "      height: 32px;\n",
       "      padding: 0 0 0 0;\n",
       "      width: 32px;\n",
       "    }\n",
       "\n",
       "    .colab-df-convert:hover {\n",
       "      background-color: #E2EBFA;\n",
       "      box-shadow: 0px 1px 2px rgba(60, 64, 67, 0.3), 0px 1px 3px 1px rgba(60, 64, 67, 0.15);\n",
       "      fill: #174EA6;\n",
       "    }\n",
       "\n",
       "    .colab-df-buttons div {\n",
       "      margin-bottom: 4px;\n",
       "    }\n",
       "\n",
       "    [theme=dark] .colab-df-convert {\n",
       "      background-color: #3B4455;\n",
       "      fill: #D2E3FC;\n",
       "    }\n",
       "\n",
       "    [theme=dark] .colab-df-convert:hover {\n",
       "      background-color: #434B5C;\n",
       "      box-shadow: 0px 1px 3px 1px rgba(0, 0, 0, 0.15);\n",
       "      filter: drop-shadow(0px 1px 2px rgba(0, 0, 0, 0.3));\n",
       "      fill: #FFFFFF;\n",
       "    }\n",
       "  </style>\n",
       "\n",
       "    <script>\n",
       "      const buttonEl =\n",
       "        document.querySelector('#df-06eae45f-9468-4458-803a-b4e4ad9ec458 button.colab-df-convert');\n",
       "      buttonEl.style.display =\n",
       "        google.colab.kernel.accessAllowed ? 'block' : 'none';\n",
       "\n",
       "      async function convertToInteractive(key) {\n",
       "        const element = document.querySelector('#df-06eae45f-9468-4458-803a-b4e4ad9ec458');\n",
       "        const dataTable =\n",
       "          await google.colab.kernel.invokeFunction('convertToInteractive',\n",
       "                                                    [key], {});\n",
       "        if (!dataTable) return;\n",
       "\n",
       "        const docLinkHtml = 'Like what you see? Visit the ' +\n",
       "          '<a target=\"_blank\" href=https://colab.research.google.com/notebooks/data_table.ipynb>data table notebook</a>'\n",
       "          + ' to learn more about interactive tables.';\n",
       "        element.innerHTML = '';\n",
       "        dataTable['output_type'] = 'display_data';\n",
       "        await google.colab.output.renderOutput(dataTable, element);\n",
       "        const docLink = document.createElement('div');\n",
       "        docLink.innerHTML = docLinkHtml;\n",
       "        element.appendChild(docLink);\n",
       "      }\n",
       "    </script>\n",
       "  </div>\n",
       "\n",
       "\n",
       "<div id=\"df-dd3aa27f-d77a-4064-8d96-394576ee8a78\">\n",
       "  <button class=\"colab-df-quickchart\" onclick=\"quickchart('df-dd3aa27f-d77a-4064-8d96-394576ee8a78')\"\n",
       "            title=\"Suggest charts.\"\n",
       "            style=\"display:none;\">\n",
       "\n",
       "<svg xmlns=\"http://www.w3.org/2000/svg\" height=\"24px\"viewBox=\"0 0 24 24\"\n",
       "     width=\"24px\">\n",
       "    <g>\n",
       "        <path d=\"M19 3H5c-1.1 0-2 .9-2 2v14c0 1.1.9 2 2 2h14c1.1 0 2-.9 2-2V5c0-1.1-.9-2-2-2zM9 17H7v-7h2v7zm4 0h-2V7h2v10zm4 0h-2v-4h2v4z\"/>\n",
       "    </g>\n",
       "</svg>\n",
       "  </button>\n",
       "\n",
       "<style>\n",
       "  .colab-df-quickchart {\n",
       "    background-color: #E8F0FE;\n",
       "    border: none;\n",
       "    border-radius: 50%;\n",
       "    cursor: pointer;\n",
       "    display: none;\n",
       "    fill: #1967D2;\n",
       "    height: 32px;\n",
       "    padding: 0 0 0 0;\n",
       "    width: 32px;\n",
       "  }\n",
       "\n",
       "  .colab-df-quickchart:hover {\n",
       "    background-color: #E2EBFA;\n",
       "    box-shadow: 0px 1px 2px rgba(60, 64, 67, 0.3), 0px 1px 3px 1px rgba(60, 64, 67, 0.15);\n",
       "    fill: #174EA6;\n",
       "  }\n",
       "\n",
       "  [theme=dark] .colab-df-quickchart {\n",
       "    background-color: #3B4455;\n",
       "    fill: #D2E3FC;\n",
       "  }\n",
       "\n",
       "  [theme=dark] .colab-df-quickchart:hover {\n",
       "    background-color: #434B5C;\n",
       "    box-shadow: 0px 1px 3px 1px rgba(0, 0, 0, 0.15);\n",
       "    filter: drop-shadow(0px 1px 2px rgba(0, 0, 0, 0.3));\n",
       "    fill: #FFFFFF;\n",
       "  }\n",
       "</style>\n",
       "\n",
       "  <script>\n",
       "    async function quickchart(key) {\n",
       "      const charts = await google.colab.kernel.invokeFunction(\n",
       "          'suggestCharts', [key], {});\n",
       "    }\n",
       "    (() => {\n",
       "      let quickchartButtonEl =\n",
       "        document.querySelector('#df-dd3aa27f-d77a-4064-8d96-394576ee8a78 button');\n",
       "      quickchartButtonEl.style.display =\n",
       "        google.colab.kernel.accessAllowed ? 'block' : 'none';\n",
       "    })();\n",
       "  </script>\n",
       "</div>\n",
       "    </div>\n",
       "  </div>\n"
      ],
      "text/plain": [
       "                          AAPL       AMZN         F      GOOGL        MSFT  \\\n",
       "Date                                                                         \n",
       "2020-01-02 00:00:00  73.249023  94.900497  8.202946  68.433998  155.093689   \n",
       "2020-01-03 00:00:00  72.536903  93.748497  8.020079  68.075996  153.162521   \n",
       "2020-01-06 00:00:00  73.114906  95.143997  7.976537  69.890503  153.558395   \n",
       "2020-01-07 00:00:00  72.771034  95.343002  8.054909  69.755501  152.158264   \n",
       "2020-01-08 00:00:00  73.941635  94.598503  8.054909  70.251999  154.581924   \n",
       "\n",
       "                           NKE       NVDA  PDRD       TSLA         WMT  \n",
       "Date                                                                    \n",
       "2020-01-02 00:00:00  98.803711  59.754219   NaN  28.684000  112.085144  \n",
       "2020-01-03 00:00:00  98.533020  58.797791   NaN  29.534000  111.095657  \n",
       "2020-01-06 00:00:00  98.446014  59.044369   NaN  30.102667  110.869507  \n",
       "2020-01-07 00:00:00  98.397675  59.759193   NaN  31.270666  109.842316  \n",
       "2020-01-08 00:00:00  98.175323  59.871281   NaN  32.809334  109.465370  "
      ]
     },
     "execution_count": 2,
     "metadata": {},
     "output_type": "execute_result"
    }
   ],
   "source": [
    "tickers = ['TSLA','AAPL','MSFT','NKE','AMZN','WMT','pdrD','NVDA','GOOGL','F']\n",
    "start_date = dt.datetime(2020,1,1) # '2020-1-1'  # el primer dia no lo toma en cuenta porque no tiene con cual realizar la variacion\n",
    "ende_date= dt.datetime(2021,1,1) # '2021-1-1'\n",
    "#data = pdr.get_data_yahoo(tickers,start_date,ende_date)['Adj Close']\n",
    "data = pdr.get_data_yahoo( tickers,start_date, ende_date)['Adj Close']\n",
    "data.head()"
   ]
  },
  {
   "cell_type": "code",
   "execution_count": 3,
   "metadata": {
    "colab": {
     "base_uri": "https://localhost:8080/"
    },
    "executionInfo": {
     "elapsed": 46693,
     "status": "ok",
     "timestamp": 1693454245386,
     "user": {
      "displayName": "Sergio Sánchez",
      "userId": "15808066824487995715"
     },
     "user_tz": 300
    },
    "id": "xdNsI460ZWGy",
    "outputId": "cce5b0e5-ad92-4a21-c5c3-e46220095b70"
   },
   "outputs": [
    {
     "name": "stdout",
     "output_type": "stream",
     "text": [
      "[*********************100%%**********************]  10 of 10 completed"
     ]
    },
    {
     "name": "stderr",
     "output_type": "stream",
     "text": [
      "ERROR:yfinance:\n",
      "1 Failed download:\n",
      "ERROR:yfinance:['PDRD']: Exception('%ticker%: No timezone found, symbol may be delisted')\n"
     ]
    },
    {
     "name": "stdout",
     "output_type": "stream",
     "text": [
      "\n",
      "[*********************100%%**********************]  10 of 10 completed"
     ]
    },
    {
     "name": "stderr",
     "output_type": "stream",
     "text": [
      "ERROR:yfinance:\n",
      "1 Failed download:\n",
      "ERROR:yfinance:['PDRD']: Exception('%ticker%: No timezone found, symbol may be delisted')\n"
     ]
    },
    {
     "name": "stdout",
     "output_type": "stream",
     "text": [
      "\n",
      "[*********************100%%**********************]  10 of 10 completed"
     ]
    },
    {
     "name": "stderr",
     "output_type": "stream",
     "text": [
      "ERROR:yfinance:\n",
      "1 Failed download:\n",
      "ERROR:yfinance:['PDRD']: Exception('%ticker%: No timezone found, symbol may be delisted')\n"
     ]
    },
    {
     "name": "stdout",
     "output_type": "stream",
     "text": [
      "\n",
      "[*********************100%%**********************]  10 of 10 completed"
     ]
    },
    {
     "name": "stderr",
     "output_type": "stream",
     "text": [
      "ERROR:yfinance:\n",
      "1 Failed download:\n",
      "ERROR:yfinance:['PDRD']: Exception('%ticker%: No timezone found, symbol may be delisted')\n"
     ]
    },
    {
     "name": "stdout",
     "output_type": "stream",
     "text": [
      "\n",
      "[*********************100%%**********************]  10 of 10 completed"
     ]
    },
    {
     "name": "stderr",
     "output_type": "stream",
     "text": [
      "ERROR:yfinance:\n",
      "1 Failed download:\n",
      "ERROR:yfinance:['PDRD']: Exception('%ticker%: No timezone found, symbol may be delisted')\n"
     ]
    },
    {
     "name": "stdout",
     "output_type": "stream",
     "text": [
      "\n",
      "[*********************100%%**********************]  10 of 10 completed"
     ]
    },
    {
     "name": "stderr",
     "output_type": "stream",
     "text": [
      "ERROR:yfinance:\n",
      "1 Failed download:\n",
      "ERROR:yfinance:['PDRD']: Exception('%ticker%: No timezone found, symbol may be delisted')\n"
     ]
    },
    {
     "name": "stdout",
     "output_type": "stream",
     "text": [
      "\n",
      "[*********************100%%**********************]  10 of 10 completed"
     ]
    },
    {
     "name": "stderr",
     "output_type": "stream",
     "text": [
      "ERROR:yfinance:\n",
      "1 Failed download:\n",
      "ERROR:yfinance:['PDRD']: Exception('%ticker%: No timezone found, symbol may be delisted')\n"
     ]
    },
    {
     "name": "stdout",
     "output_type": "stream",
     "text": [
      "\n",
      "[*********************100%%**********************]  10 of 10 completed"
     ]
    },
    {
     "name": "stderr",
     "output_type": "stream",
     "text": [
      "ERROR:yfinance:\n",
      "1 Failed download:\n",
      "ERROR:yfinance:['PDRD']: Exception('%ticker%: No timezone found, symbol may be delisted')\n"
     ]
    },
    {
     "name": "stdout",
     "output_type": "stream",
     "text": [
      "\n",
      "[*********************100%%**********************]  10 of 10 completed"
     ]
    },
    {
     "name": "stderr",
     "output_type": "stream",
     "text": [
      "ERROR:yfinance:\n",
      "1 Failed download:\n",
      "ERROR:yfinance:['PDRD']: Exception('%ticker%: No timezone found, symbol may be delisted')\n"
     ]
    },
    {
     "name": "stdout",
     "output_type": "stream",
     "text": [
      "\n",
      "[*********************100%%**********************]  10 of 10 completed"
     ]
    },
    {
     "name": "stderr",
     "output_type": "stream",
     "text": [
      "ERROR:yfinance:\n",
      "1 Failed download:\n",
      "ERROR:yfinance:['PDRD']: Exception('%ticker%: No timezone found, symbol may be delisted')\n"
     ]
    },
    {
     "name": "stdout",
     "output_type": "stream",
     "text": [
      "\n",
      "[*********************100%%**********************]  10 of 10 completed"
     ]
    },
    {
     "name": "stderr",
     "output_type": "stream",
     "text": [
      "ERROR:yfinance:\n",
      "1 Failed download:\n",
      "ERROR:yfinance:['PDRD']: Exception('%ticker%: No timezone found, symbol may be delisted')\n"
     ]
    },
    {
     "name": "stdout",
     "output_type": "stream",
     "text": [
      "\n",
      "[*********************100%%**********************]  10 of 10 completed"
     ]
    },
    {
     "name": "stderr",
     "output_type": "stream",
     "text": [
      "ERROR:yfinance:\n",
      "1 Failed download:\n",
      "ERROR:yfinance:['PDRD']: Exception('%ticker%: No timezone found, symbol may be delisted')\n"
     ]
    },
    {
     "name": "stdout",
     "output_type": "stream",
     "text": [
      "\n",
      "[*********************100%%**********************]  10 of 10 completed"
     ]
    },
    {
     "name": "stderr",
     "output_type": "stream",
     "text": [
      "ERROR:yfinance:\n",
      "1 Failed download:\n",
      "ERROR:yfinance:['PDRD']: Exception('%ticker%: No timezone found, symbol may be delisted')\n"
     ]
    },
    {
     "name": "stdout",
     "output_type": "stream",
     "text": [
      "\n",
      "[*********************100%%**********************]  10 of 10 completed"
     ]
    },
    {
     "name": "stderr",
     "output_type": "stream",
     "text": [
      "ERROR:yfinance:\n",
      "1 Failed download:\n",
      "ERROR:yfinance:['PDRD']: Exception('%ticker%: No timezone found, symbol may be delisted')\n"
     ]
    },
    {
     "name": "stdout",
     "output_type": "stream",
     "text": [
      "\n",
      "[*********************100%%**********************]  10 of 10 completed"
     ]
    },
    {
     "name": "stderr",
     "output_type": "stream",
     "text": [
      "ERROR:yfinance:\n",
      "1 Failed download:\n",
      "ERROR:yfinance:['PDRD']: Exception('%ticker%: No timezone found, symbol may be delisted')\n"
     ]
    },
    {
     "name": "stdout",
     "output_type": "stream",
     "text": [
      "\n",
      "[*********************100%%**********************]  10 of 10 completed"
     ]
    },
    {
     "name": "stderr",
     "output_type": "stream",
     "text": [
      "ERROR:yfinance:\n",
      "1 Failed download:\n",
      "ERROR:yfinance:['PDRD']: Exception('%ticker%: No timezone found, symbol may be delisted')\n"
     ]
    },
    {
     "name": "stdout",
     "output_type": "stream",
     "text": [
      "\n",
      "[*********************100%%**********************]  10 of 10 completed"
     ]
    },
    {
     "name": "stderr",
     "output_type": "stream",
     "text": [
      "ERROR:yfinance:\n",
      "1 Failed download:\n",
      "ERROR:yfinance:['PDRD']: Exception('%ticker%: No timezone found, symbol may be delisted')\n"
     ]
    },
    {
     "name": "stdout",
     "output_type": "stream",
     "text": [
      "\n",
      "[*********************100%%**********************]  10 of 10 completed"
     ]
    },
    {
     "name": "stderr",
     "output_type": "stream",
     "text": [
      "ERROR:yfinance:\n",
      "1 Failed download:\n",
      "ERROR:yfinance:['PDRD']: Exception('%ticker%: No timezone found, symbol may be delisted')\n"
     ]
    },
    {
     "name": "stdout",
     "output_type": "stream",
     "text": [
      "\n",
      "[*********************100%%**********************]  10 of 10 completed"
     ]
    },
    {
     "name": "stderr",
     "output_type": "stream",
     "text": [
      "ERROR:yfinance:\n",
      "1 Failed download:\n",
      "ERROR:yfinance:['PDRD']: Exception('%ticker%: No timezone found, symbol may be delisted')\n"
     ]
    },
    {
     "name": "stdout",
     "output_type": "stream",
     "text": [
      "\n",
      "[*********************100%%**********************]  10 of 10 completed"
     ]
    },
    {
     "name": "stderr",
     "output_type": "stream",
     "text": [
      "ERROR:yfinance:\n",
      "1 Failed download:\n",
      "ERROR:yfinance:['PDRD']: Exception('%ticker%: No timezone found, symbol may be delisted')\n"
     ]
    },
    {
     "name": "stdout",
     "output_type": "stream",
     "text": [
      "\n"
     ]
    }
   ],
   "source": [
    "# decarga archivos con nombres en ticks pero con la misma informacion\n",
    "for i in tickers:\n",
    "    pdr.get_data_yahoo(tickers ,start_date,ende_date)['Adj Close'].to_csv(i+'.csv')\n",
    "\n",
    "# decargar en un csv todos los tickes\n",
    "for i in tickers:\n",
    "    pdr.get_data_yahoo(tickers ,start_date,ende_date)['Adj Close'].to_csv('Datos_completos.csv')"
   ]
  },
  {
   "cell_type": "code",
   "execution_count": 4,
   "metadata": {
    "colab": {
     "base_uri": "https://localhost:8080/",
     "height": 307
    },
    "executionInfo": {
     "elapsed": 1685,
     "status": "ok",
     "timestamp": 1693454247067,
     "user": {
      "displayName": "Sergio Sánchez",
      "userId": "15808066824487995715"
     },
     "user_tz": 300
    },
    "id": "MsP1hg1mZWGy",
    "outputId": "ab5b70c7-0037-44cc-ecbe-61fc5494e54d"
   },
   "outputs": [
    {
     "name": "stdout",
     "output_type": "stream",
     "text": [
      "[*********************100%%**********************]  10 of 10 completed"
     ]
    },
    {
     "name": "stderr",
     "output_type": "stream",
     "text": [
      "ERROR:yfinance:\n",
      "1 Failed download:\n",
      "ERROR:yfinance:['PDRD']: Exception('%ticker%: No timezone found, symbol may be delisted')\n"
     ]
    },
    {
     "name": "stdout",
     "output_type": "stream",
     "text": [
      "\n"
     ]
    },
    {
     "data": {
      "text/html": [
       "\n",
       "  <div id=\"df-22d62e67-540a-4224-8a1d-d38191335a78\" class=\"colab-df-container\">\n",
       "    <div>\n",
       "<style scoped>\n",
       "    .dataframe tbody tr th:only-of-type {\n",
       "        vertical-align: middle;\n",
       "    }\n",
       "\n",
       "    .dataframe tbody tr th {\n",
       "        vertical-align: top;\n",
       "    }\n",
       "\n",
       "    .dataframe thead th {\n",
       "        text-align: right;\n",
       "    }\n",
       "</style>\n",
       "<table border=\"1\" class=\"dataframe\">\n",
       "  <thead>\n",
       "    <tr style=\"text-align: right;\">\n",
       "      <th></th>\n",
       "      <th>AAPL</th>\n",
       "      <th>AMZN</th>\n",
       "      <th>F</th>\n",
       "      <th>GOOGL</th>\n",
       "      <th>MSFT</th>\n",
       "      <th>NKE</th>\n",
       "      <th>NVDA</th>\n",
       "      <th>PDRD</th>\n",
       "      <th>TSLA</th>\n",
       "      <th>WMT</th>\n",
       "    </tr>\n",
       "    <tr>\n",
       "      <th>Date</th>\n",
       "      <th></th>\n",
       "      <th></th>\n",
       "      <th></th>\n",
       "      <th></th>\n",
       "      <th></th>\n",
       "      <th></th>\n",
       "      <th></th>\n",
       "      <th></th>\n",
       "      <th></th>\n",
       "      <th></th>\n",
       "    </tr>\n",
       "  </thead>\n",
       "  <tbody>\n",
       "    <tr>\n",
       "      <th>2020-01-02 00:00:00</th>\n",
       "      <td>NaN</td>\n",
       "      <td>NaN</td>\n",
       "      <td>NaN</td>\n",
       "      <td>NaN</td>\n",
       "      <td>NaN</td>\n",
       "      <td>NaN</td>\n",
       "      <td>NaN</td>\n",
       "      <td>NaN</td>\n",
       "      <td>NaN</td>\n",
       "      <td>NaN</td>\n",
       "    </tr>\n",
       "    <tr>\n",
       "      <th>2020-01-03 00:00:00</th>\n",
       "      <td>-0.009722</td>\n",
       "      <td>-0.012139</td>\n",
       "      <td>-0.022293</td>\n",
       "      <td>-0.005231</td>\n",
       "      <td>-0.012452</td>\n",
       "      <td>-0.002740</td>\n",
       "      <td>-0.016006</td>\n",
       "      <td>NaN</td>\n",
       "      <td>0.029633</td>\n",
       "      <td>-0.008828</td>\n",
       "    </tr>\n",
       "    <tr>\n",
       "      <th>2020-01-06 00:00:00</th>\n",
       "      <td>0.007969</td>\n",
       "      <td>0.014886</td>\n",
       "      <td>-0.005429</td>\n",
       "      <td>0.026654</td>\n",
       "      <td>0.002585</td>\n",
       "      <td>-0.000883</td>\n",
       "      <td>0.004194</td>\n",
       "      <td>NaN</td>\n",
       "      <td>0.019255</td>\n",
       "      <td>-0.002036</td>\n",
       "    </tr>\n",
       "    <tr>\n",
       "      <th>2020-01-07 00:00:00</th>\n",
       "      <td>-0.004703</td>\n",
       "      <td>0.002092</td>\n",
       "      <td>0.009825</td>\n",
       "      <td>-0.001932</td>\n",
       "      <td>-0.009118</td>\n",
       "      <td>-0.000491</td>\n",
       "      <td>0.012107</td>\n",
       "      <td>NaN</td>\n",
       "      <td>0.038801</td>\n",
       "      <td>-0.009265</td>\n",
       "    </tr>\n",
       "    <tr>\n",
       "      <th>2020-01-08 00:00:00</th>\n",
       "      <td>0.016086</td>\n",
       "      <td>-0.007809</td>\n",
       "      <td>0.000000</td>\n",
       "      <td>0.007118</td>\n",
       "      <td>0.015928</td>\n",
       "      <td>-0.002260</td>\n",
       "      <td>0.001876</td>\n",
       "      <td>NaN</td>\n",
       "      <td>0.049205</td>\n",
       "      <td>-0.003432</td>\n",
       "    </tr>\n",
       "  </tbody>\n",
       "</table>\n",
       "</div>\n",
       "    <div class=\"colab-df-buttons\">\n",
       "\n",
       "  <div class=\"colab-df-container\">\n",
       "    <button class=\"colab-df-convert\" onclick=\"convertToInteractive('df-22d62e67-540a-4224-8a1d-d38191335a78')\"\n",
       "            title=\"Convert this dataframe to an interactive table.\"\n",
       "            style=\"display:none;\">\n",
       "\n",
       "  <svg xmlns=\"http://www.w3.org/2000/svg\" height=\"24px\" viewBox=\"0 -960 960 960\">\n",
       "    <path d=\"M120-120v-720h720v720H120Zm60-500h600v-160H180v160Zm220 220h160v-160H400v160Zm0 220h160v-160H400v160ZM180-400h160v-160H180v160Zm440 0h160v-160H620v160ZM180-180h160v-160H180v160Zm440 0h160v-160H620v160Z\"/>\n",
       "  </svg>\n",
       "    </button>\n",
       "\n",
       "  <style>\n",
       "    .colab-df-container {\n",
       "      display:flex;\n",
       "      gap: 12px;\n",
       "    }\n",
       "\n",
       "    .colab-df-convert {\n",
       "      background-color: #E8F0FE;\n",
       "      border: none;\n",
       "      border-radius: 50%;\n",
       "      cursor: pointer;\n",
       "      display: none;\n",
       "      fill: #1967D2;\n",
       "      height: 32px;\n",
       "      padding: 0 0 0 0;\n",
       "      width: 32px;\n",
       "    }\n",
       "\n",
       "    .colab-df-convert:hover {\n",
       "      background-color: #E2EBFA;\n",
       "      box-shadow: 0px 1px 2px rgba(60, 64, 67, 0.3), 0px 1px 3px 1px rgba(60, 64, 67, 0.15);\n",
       "      fill: #174EA6;\n",
       "    }\n",
       "\n",
       "    .colab-df-buttons div {\n",
       "      margin-bottom: 4px;\n",
       "    }\n",
       "\n",
       "    [theme=dark] .colab-df-convert {\n",
       "      background-color: #3B4455;\n",
       "      fill: #D2E3FC;\n",
       "    }\n",
       "\n",
       "    [theme=dark] .colab-df-convert:hover {\n",
       "      background-color: #434B5C;\n",
       "      box-shadow: 0px 1px 3px 1px rgba(0, 0, 0, 0.15);\n",
       "      filter: drop-shadow(0px 1px 2px rgba(0, 0, 0, 0.3));\n",
       "      fill: #FFFFFF;\n",
       "    }\n",
       "  </style>\n",
       "\n",
       "    <script>\n",
       "      const buttonEl =\n",
       "        document.querySelector('#df-22d62e67-540a-4224-8a1d-d38191335a78 button.colab-df-convert');\n",
       "      buttonEl.style.display =\n",
       "        google.colab.kernel.accessAllowed ? 'block' : 'none';\n",
       "\n",
       "      async function convertToInteractive(key) {\n",
       "        const element = document.querySelector('#df-22d62e67-540a-4224-8a1d-d38191335a78');\n",
       "        const dataTable =\n",
       "          await google.colab.kernel.invokeFunction('convertToInteractive',\n",
       "                                                    [key], {});\n",
       "        if (!dataTable) return;\n",
       "\n",
       "        const docLinkHtml = 'Like what you see? Visit the ' +\n",
       "          '<a target=\"_blank\" href=https://colab.research.google.com/notebooks/data_table.ipynb>data table notebook</a>'\n",
       "          + ' to learn more about interactive tables.';\n",
       "        element.innerHTML = '';\n",
       "        dataTable['output_type'] = 'display_data';\n",
       "        await google.colab.output.renderOutput(dataTable, element);\n",
       "        const docLink = document.createElement('div');\n",
       "        docLink.innerHTML = docLinkHtml;\n",
       "        element.appendChild(docLink);\n",
       "      }\n",
       "    </script>\n",
       "  </div>\n",
       "\n",
       "\n",
       "<div id=\"df-130727b7-08c1-4068-9e35-af9958c24ad6\">\n",
       "  <button class=\"colab-df-quickchart\" onclick=\"quickchart('df-130727b7-08c1-4068-9e35-af9958c24ad6')\"\n",
       "            title=\"Suggest charts.\"\n",
       "            style=\"display:none;\">\n",
       "\n",
       "<svg xmlns=\"http://www.w3.org/2000/svg\" height=\"24px\"viewBox=\"0 0 24 24\"\n",
       "     width=\"24px\">\n",
       "    <g>\n",
       "        <path d=\"M19 3H5c-1.1 0-2 .9-2 2v14c0 1.1.9 2 2 2h14c1.1 0 2-.9 2-2V5c0-1.1-.9-2-2-2zM9 17H7v-7h2v7zm4 0h-2V7h2v10zm4 0h-2v-4h2v4z\"/>\n",
       "    </g>\n",
       "</svg>\n",
       "  </button>\n",
       "\n",
       "<style>\n",
       "  .colab-df-quickchart {\n",
       "    background-color: #E8F0FE;\n",
       "    border: none;\n",
       "    border-radius: 50%;\n",
       "    cursor: pointer;\n",
       "    display: none;\n",
       "    fill: #1967D2;\n",
       "    height: 32px;\n",
       "    padding: 0 0 0 0;\n",
       "    width: 32px;\n",
       "  }\n",
       "\n",
       "  .colab-df-quickchart:hover {\n",
       "    background-color: #E2EBFA;\n",
       "    box-shadow: 0px 1px 2px rgba(60, 64, 67, 0.3), 0px 1px 3px 1px rgba(60, 64, 67, 0.15);\n",
       "    fill: #174EA6;\n",
       "  }\n",
       "\n",
       "  [theme=dark] .colab-df-quickchart {\n",
       "    background-color: #3B4455;\n",
       "    fill: #D2E3FC;\n",
       "  }\n",
       "\n",
       "  [theme=dark] .colab-df-quickchart:hover {\n",
       "    background-color: #434B5C;\n",
       "    box-shadow: 0px 1px 3px 1px rgba(0, 0, 0, 0.15);\n",
       "    filter: drop-shadow(0px 1px 2px rgba(0, 0, 0, 0.3));\n",
       "    fill: #FFFFFF;\n",
       "  }\n",
       "</style>\n",
       "\n",
       "  <script>\n",
       "    async function quickchart(key) {\n",
       "      const charts = await google.colab.kernel.invokeFunction(\n",
       "          'suggestCharts', [key], {});\n",
       "    }\n",
       "    (() => {\n",
       "      let quickchartButtonEl =\n",
       "        document.querySelector('#df-130727b7-08c1-4068-9e35-af9958c24ad6 button');\n",
       "      quickchartButtonEl.style.display =\n",
       "        google.colab.kernel.accessAllowed ? 'block' : 'none';\n",
       "    })();\n",
       "  </script>\n",
       "</div>\n",
       "    </div>\n",
       "  </div>\n"
      ],
      "text/plain": [
       "                         AAPL      AMZN         F     GOOGL      MSFT  \\\n",
       "Date                                                                    \n",
       "2020-01-02 00:00:00       NaN       NaN       NaN       NaN       NaN   \n",
       "2020-01-03 00:00:00 -0.009722 -0.012139 -0.022293 -0.005231 -0.012452   \n",
       "2020-01-06 00:00:00  0.007969  0.014886 -0.005429  0.026654  0.002585   \n",
       "2020-01-07 00:00:00 -0.004703  0.002092  0.009825 -0.001932 -0.009118   \n",
       "2020-01-08 00:00:00  0.016086 -0.007809  0.000000  0.007118  0.015928   \n",
       "\n",
       "                          NKE      NVDA  PDRD      TSLA       WMT  \n",
       "Date                                                               \n",
       "2020-01-02 00:00:00       NaN       NaN   NaN       NaN       NaN  \n",
       "2020-01-03 00:00:00 -0.002740 -0.016006   NaN  0.029633 -0.008828  \n",
       "2020-01-06 00:00:00 -0.000883  0.004194   NaN  0.019255 -0.002036  \n",
       "2020-01-07 00:00:00 -0.000491  0.012107   NaN  0.038801 -0.009265  \n",
       "2020-01-08 00:00:00 -0.002260  0.001876   NaN  0.049205 -0.003432  "
      ]
     },
     "execution_count": 4,
     "metadata": {},
     "output_type": "execute_result"
    }
   ],
   "source": [
    "# Calcular las variaciones por fecha de cada stock\n",
    "data = pdr.get_data_yahoo(tickers ,start_date,ende_date)['Adj Close']\n",
    "# pct_change(): variacion porcentual con la fecha anterior\n",
    "returns = data.pct_change() # esa funcion viene en la libreria pandas-get_data_yahoo\n",
    "returns.head()"
   ]
  },
  {
   "cell_type": "code",
   "execution_count": 5,
   "metadata": {
    "colab": {
     "base_uri": "https://localhost:8080/"
    },
    "executionInfo": {
     "elapsed": 275,
     "status": "ok",
     "timestamp": 1693454253325,
     "user": {
      "displayName": "Sergio Sánchez",
      "userId": "15808066824487995715"
     },
     "user_tz": 300
    },
    "id": "Ip0XSstkZWGz",
    "outputId": "7c7a86af-04f1-4e41-aec2-74e192231199"
   },
   "outputs": [
    {
     "name": "stdout",
     "output_type": "stream",
     "text": [
      "\n",
      "Media de los retornos logaritmicos:\n",
      "\n",
      " AAPL     0.577960\n",
      "AMZN     0.539979\n",
      "F       -0.052357\n",
      "GOOGL    0.247277\n",
      "MSFT     0.336064\n",
      "NKE      0.334641\n",
      "NVDA     0.779435\n",
      "PDRD          NaN\n",
      "TSLA     2.104196\n",
      "WMT      0.208791\n",
      "dtype: float64\n",
      "\n",
      "Media de covarianza:\n",
      "\n",
      "            AAPL      AMZN         F     GOOGL      MSFT       NKE      NVDA  \\\n",
      "AAPL   0.218325  0.126150  0.113525  0.136893  0.173689  0.120041  0.212775   \n",
      "AMZN   0.126150  0.147552  0.036179  0.100623  0.125421  0.062558  0.150529   \n",
      "F      0.113525  0.036179  0.311292  0.098197  0.104515  0.151097  0.128434   \n",
      "GOOGL  0.136893  0.100623  0.098197  0.149181  0.146636  0.101848  0.172075   \n",
      "MSFT   0.173689  0.125421  0.104515  0.146636  0.194005  0.116792  0.217575   \n",
      "NKE    0.120041  0.062558  0.151097  0.101848  0.116792  0.172441  0.147420   \n",
      "NVDA   0.212775  0.150529  0.128434  0.172075  0.217575  0.147420  0.338842   \n",
      "PDRD        NaN       NaN       NaN       NaN       NaN       NaN       NaN   \n",
      "TSLA   0.205795  0.161697  0.187253  0.160383  0.207078  0.134722  0.276038   \n",
      "WMT    0.078935  0.053986  0.032304  0.058642  0.081438  0.045276  0.097534   \n",
      "\n",
      "       PDRD      TSLA       WMT  \n",
      "AAPL    NaN  0.205795  0.078935  \n",
      "AMZN    NaN  0.161697  0.053986  \n",
      "F       NaN  0.187253  0.032304  \n",
      "GOOGL   NaN  0.160383  0.058642  \n",
      "MSFT    NaN  0.207078  0.081438  \n",
      "NKE     NaN  0.134722  0.045276  \n",
      "NVDA    NaN  0.276038  0.097534  \n",
      "PDRD    NaN       NaN       NaN  \n",
      "TSLA    NaN  0.804134  0.051563  \n",
      "WMT     NaN  0.051563  0.097462  \n",
      "\n",
      "Media de correlaciones:\n",
      "\n",
      "            AAPL      AMZN         F     GOOGL      MSFT       NKE      NVDA  \\\n",
      "AAPL   1.000000  0.702850  0.435468  0.758531  0.843944  0.618665  0.782293   \n",
      "AMZN   0.702850  1.000000  0.168809  0.678216  0.741295  0.392182  0.673209   \n",
      "F      0.435468  0.168809  1.000000  0.455677  0.425294  0.652154  0.395454   \n",
      "GOOGL  0.758531  0.678216  0.455677  1.000000  0.861940  0.635001  0.765355   \n",
      "MSFT   0.843944  0.741295  0.425294  0.861940  1.000000  0.638540  0.848602   \n",
      "NKE    0.618665  0.392182  0.652154  0.635001  0.638540  1.000000  0.609870   \n",
      "NVDA   0.782293  0.673209  0.395454  0.765355  0.848602  0.609870  1.000000   \n",
      "PDRD        NaN       NaN       NaN       NaN       NaN       NaN       NaN   \n",
      "TSLA   0.491156  0.469423  0.374266  0.463059  0.524279  0.361788  0.528818   \n",
      "WMT    0.541127  0.450189  0.185463  0.486332  0.592251  0.349243  0.536711   \n",
      "\n",
      "       PDRD      TSLA       WMT  \n",
      "AAPL    NaN  0.491156  0.541127  \n",
      "AMZN    NaN  0.469423  0.450189  \n",
      "F       NaN  0.374266  0.185463  \n",
      "GOOGL   NaN  0.463059  0.486332  \n",
      "MSFT    NaN  0.524279  0.592251  \n",
      "NKE     NaN  0.361788  0.349243  \n",
      "NVDA    NaN  0.528818  0.536711  \n",
      "PDRD    NaN       NaN       NaN  \n",
      "TSLA    NaN  1.000000  0.184186  \n",
      "WMT     NaN  0.184186  1.000000  \n"
     ]
    }
   ],
   "source": [
    "log_returns = np.log(1+data.pct_change()) # logaritmos es para capitalizacion continua\n",
    "s = log_returns.mean()*252 # anualizamos el periodo multiplicando por 252 dias = # dias abre la bolsa\n",
    "d = log_returns.cov()*252\n",
    "x = log_returns.corr()\n",
    "print('\\nMedia de los retornos logaritmicos:\\n\\n',s)\n",
    "print('\\nMedia de covarianza:\\n\\n',d)\n",
    "print('\\nMedia de correlaciones:\\n\\n',x)"
   ]
  },
  {
   "cell_type": "code",
   "execution_count": 6,
   "metadata": {
    "colab": {
     "base_uri": "https://localhost:8080/"
    },
    "executionInfo": {
     "elapsed": 254,
     "status": "ok",
     "timestamp": 1693454266494,
     "user": {
      "displayName": "Sergio Sánchez",
      "userId": "15808066824487995715"
     },
     "user_tz": 300
    },
    "id": "_TLcBR04ZWG0",
    "outputId": "df28191e-f9fa-4c7a-d5a7-10176b8b4012"
   },
   "outputs": [
    {
     "data": {
      "text/plain": [
       "(-0.1823215567939546, -0.1823215567939546)"
      ]
     },
     "execution_count": 6,
     "metadata": {},
     "output_type": "execute_result"
    }
   ],
   "source": [
    "s = math.log(5/6)\n",
    "d = np.log(5/6)\n",
    "# Exactamente el mismo valor\n",
    "s,d"
   ]
  },
  {
   "cell_type": "code",
   "execution_count": 7,
   "metadata": {
    "colab": {
     "base_uri": "https://localhost:8080/",
     "height": 542
    },
    "executionInfo": {
     "elapsed": 931,
     "status": "ok",
     "timestamp": 1693454269035,
     "user": {
      "displayName": "Sergio Sánchez",
      "userId": "15808066824487995715"
     },
     "user_tz": 300
    },
    "id": "FrMHfNL-ZWG1",
    "outputId": "399c9e48-ca74-40d8-93b2-436314f8e47e"
   },
   "outputs": [
    {
     "name": "stdout",
     "output_type": "stream",
     "text": [
      "\r",
      "[*********************100%%**********************]  1 of 1 completed\n"
     ]
    },
    {
     "data": {
      "text/plain": [
       "Text(13.819444444444445, 0.5, 'Frecuencia')"
      ]
     },
     "execution_count": 7,
     "metadata": {},
     "output_type": "execute_result"
    },
    {
     "data": {
      "image/png": "[encoded data removed]",
      "text/plain": [
       "<Figure size 500x500 with 1 Axes>"
      ]
     },
     "metadata": {},
     "output_type": "display_data"
    }
   ],
   "source": [
    "# retornos logaritmicos de APPLE\n",
    "start_date = '2020-1-1'\n",
    "ende_date='2021-1-1'\n",
    "aapl = pdr.get_data_yahoo('AAPL' ,start_date,ende_date)['Adj Close']\n",
    "returns = aapl.pct_change()\n",
    "sb.displot(returns)\n",
    "plt.xlabel('Retornos diarios')\n",
    "plt.ylabel('Frecuencia')"
   ]
  },
  {
   "cell_type": "code",
   "execution_count": 8,
   "metadata": {
    "colab": {
     "base_uri": "https://localhost:8080/",
     "height": 466
    },
    "executionInfo": {
     "elapsed": 2849,
     "status": "ok",
     "timestamp": 1693454279157,
     "user": {
      "displayName": "Sergio Sánchez",
      "userId": "15808066824487995715"
     },
     "user_tz": 300
    },
    "id": "IsnosIkFZWG1",
    "outputId": "ea04c8c4-c423-47e6-d87a-c4f97435bcb3"
   },
   "outputs": [
    {
     "data": {
      "text/plain": [
       "Text(0, 0.5, 'Frecuencia')"
      ]
     },
     "execution_count": 8,
     "metadata": {},
     "output_type": "execute_result"
    },
    {
     "data": {
      "image/png": "[encoded data removed]",
      "text/plain": [
       "<Figure size 640x480 with 1 Axes>"
      ]
     },
     "metadata": {},
     "output_type": "display_data"
    }
   ],
   "source": [
    "# retornos logaritmicos de VARIAS EMPRESAS\n",
    "returns = data.pct_change()\n",
    "sb.histplot(log_returns)\n",
    "plt.xlabel('Retornos diarios')\n",
    "plt.ylabel('Frecuencia')"
   ]
  },
  {
   "cell_type": "code",
   "execution_count": 9,
   "metadata": {
    "executionInfo": {
     "elapsed": 260,
     "status": "ok",
     "timestamp": 1693454284926,
     "user": {
      "displayName": "Sergio Sánchez",
      "userId": "15808066824487995715"
     },
     "user_tz": 300
    },
    "id": "PndfkRqtZWG2"
   },
   "outputs": [],
   "source": [
    "import csv\n",
    "import random\n",
    "\n",
    "with open('distribucion.csv','w',newline='') as file:\n",
    "    csv_output = csv.writer(file)\n",
    "\n",
    "    for i in range(200): # crearemos 200 numeros\n",
    "        numbers = random.randint(0,100) # los valores estaran entre 0 y 100 y seran enteros\n",
    "        csv_output.writerow([numbers])      #parece que es escribir en fila cada numero"
   ]
  },
  {
   "cell_type": "code",
   "execution_count": 10,
   "metadata": {
    "colab": {
     "base_uri": "https://localhost:8080/",
     "height": 469
    },
    "executionInfo": {
     "elapsed": 755,
     "status": "ok",
     "timestamp": 1693454287836,
     "user": {
      "displayName": "Sergio Sánchez",
      "userId": "15808066824487995715"
     },
     "user_tz": 300
    },
    "id": "HSswpz76ZWG2",
    "outputId": "881ba8c1-2c00-479c-dec7-8dc5b51a42c5"
   },
   "outputs": [
    {
     "data": {
      "text/plain": [
       "Text(0.5, 1.0, 'Distribución')"
      ]
     },
     "execution_count": 10,
     "metadata": {},
     "output_type": "execute_result"
    },
    {
     "data": {
      "image/png": "[encoded data removed]",
      "text/plain": [
       "<Figure size 640x480 with 1 Axes>"
      ]
     },
     "metadata": {},
     "output_type": "display_data"
    }
   ],
   "source": [
    "# graficamos el csv creado arruba : distribucion.csv\n",
    "data = np.genfromtxt('distribucion.csv')\n",
    "sb.histplot(data)\n",
    "plt.title('Distribución')"
   ]
  },
  {
   "cell_type": "code",
   "execution_count": 11,
   "metadata": {
    "colab": {
     "base_uri": "https://localhost:8080/"
    },
    "executionInfo": {
     "elapsed": 1303,
     "status": "ok",
     "timestamp": 1693454294738,
     "user": {
      "displayName": "Sergio Sánchez",
      "userId": "15808066824487995715"
     },
     "user_tz": 300
    },
    "id": "zBWOX6x8ZWG3",
    "outputId": "ecc45b4a-80db-4a5e-edac-3d385937601c"
   },
   "outputs": [
    {
     "name": "stdout",
     "output_type": "stream",
     "text": [
      "[*********************100%%**********************]  1 of 1 completed\n",
      "[*********************100%%**********************]  1 of 1 completed\n",
      "[*********************100%%**********************]  1 of 1 completed\n",
      "                 TSLA       AAPL       MSFT\n",
      "Date                                       \n",
      "2018-01-02  21.368668  40.776527  80.391830\n",
      "2018-01-03  21.150000  40.769424  80.765953\n",
      "2018-01-04  20.974667  40.958801  81.476830\n"
     ]
    }
   ],
   "source": [
    "# video 5\n",
    "assets = ['TSLA','AAPL','MSFT']\n",
    "data = pd.DataFrame()\n",
    "\n",
    "for t in assets:\n",
    "    data[t] = pdr.get_data_yahoo(t,'2018-01-01')['Adj Close'] # hasta el dia de hoy\n",
    "print(data.head(3))"
   ]
  },
  {
   "cell_type": "code",
   "execution_count": 12,
   "metadata": {
    "colab": {
     "base_uri": "https://localhost:8080/"
    },
    "executionInfo": {
     "elapsed": 272,
     "status": "ok",
     "timestamp": 1693454316437,
     "user": {
      "displayName": "Sergio Sánchez",
      "userId": "15808066824487995715"
     },
     "user_tz": 300
    },
    "id": "KwiDBJ_XZWG3",
    "outputId": "695a8558-a13c-41b9-a076-624feed183cd"
   },
   "outputs": [
    {
     "name": "stdout",
     "output_type": "stream",
     "text": [
      "TSLA    21.368668\n",
      "AAPL    40.776527\n",
      "MSFT    80.391830\n",
      "Name: 2018-01-02 00:00:00, dtype: float64\n",
      "                   TSLA        AAPL        MSFT\n",
      "Date                                           \n",
      "2018-01-02   100.000000  100.000000  100.000000\n",
      "2018-01-03    98.976689   99.982581  100.465374\n",
      "2018-01-04    98.156174  100.447007  101.349638\n",
      "2018-01-05    98.767662  101.590625  102.606196\n",
      "2018-01-08   104.954292  101.213276  102.710903\n",
      "...                 ...         ...         ...\n",
      "2023-08-24  1076.529419  432.552785  398.013081\n",
      "2023-08-25  1116.541287  438.021607  401.757255\n",
      "2023-08-28  1117.617681  441.896390  402.652870\n",
      "2023-08-29  1203.537803  451.534269  408.511663\n",
      "2023-08-30  1202.227479  460.191208  408.984354\n",
      "\n",
      "[1425 rows x 3 columns]\n"
     ]
    }
   ],
   "source": [
    "print(data.iloc[0,]) # Valores iniciales\n",
    "print(data/data.iloc[0]*100)"
   ]
  },
  {
   "cell_type": "code",
   "execution_count": 13,
   "metadata": {
    "colab": {
     "base_uri": "https://localhost:8080/",
     "height": 524
    },
    "executionInfo": {
     "elapsed": 1116,
     "status": "ok",
     "timestamp": 1693454322114,
     "user": {
      "displayName": "Sergio Sánchez",
      "userId": "15808066824487995715"
     },
     "user_tz": 300
    },
    "id": "zmliQkXhZWG3",
    "outputId": "bc5546ef-faa6-45aa-9b3d-0744f80394ed"
   },
   "outputs": [
    {
     "data": {
      "text/plain": [
       "<Axes: xlabel='Date'>"
      ]
     },
     "execution_count": 13,
     "metadata": {},
     "output_type": "execute_result"
    },
    {
     "data": {
      "image/png": "[encoded data removed]",
      "text/plain": [
       "<Figure size 1200x600 with 1 Axes>"
      ]
     },
     "metadata": {},
     "output_type": "display_data"
    }
   ],
   "source": [
    "# graficamos movimientos con una escala inicial de 100\n",
    "(data/data.iloc[0]*100).plot(figsize=(12,6))"
   ]
  },
  {
   "cell_type": "code",
   "execution_count": 14,
   "metadata": {
    "colab": {
     "base_uri": "https://localhost:8080/"
    },
    "executionInfo": {
     "elapsed": 654,
     "status": "ok",
     "timestamp": 1693454330828,
     "user": {
      "displayName": "Sergio Sánchez",
      "userId": "15808066824487995715"
     },
     "user_tz": 300
    },
    "id": "REB-43N9ZWG4",
    "outputId": "fdf0d4cb-3a23-415f-890d-e825afb4e919"
   },
   "outputs": [
    {
     "name": "stdout",
     "output_type": "stream",
     "text": [
      "\r",
      "[*********************100%%**********************]  1 of 1 completed\n"
     ]
    }
   ],
   "source": [
    "# Vela japonesas de apple, primero debemos descargar todos los datos de apple\n",
    "apple = pdr.get_data_yahoo('AAPL','2022-08-01')\n",
    "apple.to_csv('historial_apple.csv')\n",
    "# se puede SOBREESCRIBIR UN ARCHIVO DESCARGADO\n",
    "# otra forma: pdr.get_data_yahoo('AAPL', 'yahoo','2017-01-01').to_csv('historial_apple.csv')"
   ]
  },
  {
   "cell_type": "code",
   "execution_count": 15,
   "metadata": {
    "colab": {
     "base_uri": "https://localhost:8080/",
     "height": 542
    },
    "executionInfo": {
     "elapsed": 506,
     "status": "ok",
     "timestamp": 1693454331333,
     "user": {
      "displayName": "Sergio Sánchez",
      "userId": "15808066824487995715"
     },
     "user_tz": 300
    },
    "id": "pn1l-GuCZWG4",
    "outputId": "46040f4c-32e5-4f14-bc30-2419de47fb0b"
   },
   "outputs": [
    {
     "data": {
      "text/html": [
       "<html>\n",
       "<head><meta charset=\"utf-8\" /></head>\n",
       "<body>\n",
       "    <div>            <script src=\"https://cdnjs.cloudflare.com/ajax/libs/mathjax/2.7.5/MathJax.js?config=TeX-AMS-MML_SVG\"></script><script type=\"text/javascript\">if (window.MathJax && window.MathJax.Hub && window.MathJax.Hub.Config) {window.MathJax.Hub.Config({SVG: {font: \"STIX-Web\"}});}</script>                <script type=\"text/javascript\">window.PlotlyConfig = {MathJaxConfig: 'local'};</script>\n",
       "        <script charset=\"utf-8\" src=\"https://cdn.plot.ly/plotly-2.24.1.min.js\"></script>                <div id=\"220f74cf-4809-4fcb-9df1-99d21fb6d3b2\" class=\"plotly-graph-div\" style=\"height:525px; width:100%;\"></div>            <script type=\"text/javascript\">                                    window.PLOTLYENV=window.PLOTLYENV || {};                                    if (document.getElementById(\"220f74cf-4809-4fcb-9df1-99d21fb6d3b2\")) {                    Plotly.newPlot(                        \"220f74cf-4809-4fcb-9df1-99d21fb6d3b2\",                        [{\"close\":[161.50999450683594,160.00999450683594,166.1300048828125,165.80999755859375,165.35000610351562,164.8699951171875,164.9199981689453,169.24000549316406,168.49000549316406,172.10000610351562,173.19000244140625,173.02999877929688,174.5500030517578,174.14999389648438,171.52000427246094,167.57000732421875,167.22999572753906,167.52999877929688,170.02999877929688,163.6199951171875,161.3800048828125,158.91000366210938,157.22000122070312,157.9600067138672,155.80999755859375,154.52999877929688,155.9600067138672,154.4600067138672,157.3699951171875,163.42999267578125,153.83999633789062,155.30999755859375,152.3699951171875,150.6999969482422,154.47999572753906,156.89999389648438,153.72000122070312,152.74000549316406,150.42999267578125,150.77000427246094,151.75999450683594,149.83999633789062,142.47999572753906,138.1999969482422,142.4499969482422,146.10000610351562,146.39999389648438,145.42999267578125,140.08999633789062,140.4199981689453,138.97999572753906,138.33999633789062,142.99000549316406,138.3800048828125,142.41000366210938,143.75,143.86000061035156,143.38999938964844,147.27000427246094,149.4499969482422,152.33999633789062,149.35000610351562,144.8000030517578,155.74000549316406,153.33999633789062,150.64999389648438,145.02999877929688,138.8800048828125,138.3800048828125,138.9199981689453,139.5,134.8699951171875,146.8699951171875,149.6999969482422,148.27999877929688,150.0399932861328,148.7899932861328,150.72000122070312,151.2899932861328,148.00999450683594,150.17999267578125,151.07000732421875,148.11000061035156,144.22000122070312,141.1699981689453,148.02999877929688,148.30999755859375,147.80999755859375,146.6300048828125,142.91000366210938,140.94000244140625,142.64999389648438,142.16000366210938,144.49000549316406,145.47000122070312,143.2100067138672,136.5,134.50999450683594,132.3699951171875,132.3000030517578,135.4499969482422,132.22999572753906,131.86000061035156,130.02999877929688,126.04000091552734,129.61000061035156,129.92999267578125,125.06999969482422,126.36000061035156,125.0199966430664,129.6199951171875,130.14999389648438,130.72999572753906,133.49000549316406,133.41000366210938,134.75999450683594,135.94000244140625,135.2100067138672,135.27000427246094,137.8699951171875,141.11000061035156,142.52999877929688,141.86000061035156,143.9600067138672,145.92999267578125,143.0,144.2899932861328,145.42999267578125,150.82000732421875,154.5,151.72999572753906,154.64999389648438,151.9199981689453,150.8699951171875,151.00999450683594,153.85000610351562,153.1999969482422,155.3300018310547,153.7100067138672,152.5500030517578,148.47999572753906,148.91000366210938,149.39999389648438,146.7100067138672,147.9199981689453,147.41000366210938,145.30999755859375,145.91000366210938,151.02999877929688,153.8300018310547,151.60000610351562,152.8699951171875,150.58999633789062,148.5,150.47000122070312,152.58999633789062,152.99000549316406,155.85000610351562,155.0,157.39999389648438,159.27999877929688,157.8300018310547,158.92999267578125,160.25,158.27999877929688,157.64999389648438,160.77000427246094,162.36000061035156,164.89999389648438,166.1699981689453,165.6300048828125,163.75999450683594,164.66000366210938,162.02999877929688,160.8000030517578,160.10000610351562,165.55999755859375,165.2100067138672,165.22999572753906,166.47000122070312,167.6300048828125,166.64999389648438,165.02000427246094,165.3300018310547,163.77000427246094,163.75999450683594,168.41000366210938,169.67999267578125,169.58999633789062,168.5399932861328,167.4499969482422,165.7899932861328,173.57000732421875,173.5,171.77000427246094,173.55999755859375,173.75,172.57000732421875,172.07000732421875,172.07000732421875,172.69000244140625,175.0500030517578,175.16000366210938,174.1999969482422,171.55999755859375,171.83999633789062,172.99000549316406,175.42999267578125,177.3000030517578,177.25,180.08999633789062,180.9499969482422,179.5800018310547,179.2100067138672,177.82000732421875,180.57000732421875,180.9600067138672,183.7899932861328,183.30999755859372,183.9499969482422,186.00999450683597,184.9199981689453,185.00999450683597,183.9600067138672,187.0,186.67999267578125,185.2700042724609,188.05999755859372,189.25,189.58999633789065,193.97000122070312,192.4600067138672,191.3300018310547,191.80999755859372,190.67999267578125,188.6100006103516,188.0800018310547,189.7700042724609,190.5399932861328,190.69000244140625,193.9900054931641,193.72999572753903,195.1000061035156,193.1300048828125,191.94000244140625,192.75,193.6199951171875,194.5,193.22000122070312,195.8300018310547,196.4499969482422,195.6100006103516,192.5800018310547,191.1699981689453,181.9900054931641,178.85000610351562,179.8000030517578,178.19000244140625,177.97000122070312,177.7899932861328,179.4600067138672,177.4499969482422,176.57000732421875,174.0,174.49000549316406,175.83999633789062,177.22999572753906,181.1199951171875,176.3800048828125,178.61000061035156,180.19000244140625,184.1199951171875,187.6499938964844],\"high\":[163.58999633789062,162.41000366210938,166.58999633789062,167.19000244140625,165.85000610351562,167.80999755859375,165.82000732421875,169.33999633789062,170.99000549316406,172.1699981689453,173.38999938964844,173.7100067138672,176.14999389648438,174.89999389648438,173.74000549316406,169.86000061035156,168.7100067138672,168.11000061035156,170.13999938964844,171.0500030517578,162.89999389648438,162.55999755859375,160.5800018310547,158.4199981689453,160.36000061035156,157.08999633789062,156.6699981689453,156.36000061035156,157.82000732421875,164.25999450683594,160.5399932861328,157.10000610351562,155.24000549316406,151.35000610351562,154.55999755859375,158.0800018310547,158.74000549316406,154.47000122070312,151.47000122070312,153.77000427246094,154.72000122070312,150.63999938964844,146.72000122070312,143.10000610351562,143.07000732421875,146.22000122070312,147.3800048828125,147.5399932861328,143.10000610351562,141.88999938964844,141.35000610351562,140.36000061035156,143.58999633789062,144.52000427246094,142.89999389648438,146.6999969482422,144.9499969482422,145.88999938964844,147.85000610351562,150.22999572753906,152.49000549316406,151.99000549316406,149.0500030517578,157.5,154.24000549316406,155.4499969482422,152.1699981689453,142.8000030517578,142.6699981689453,139.14999389648438,141.42999267578125,138.5500030517578,146.8699951171875,150.00999450683594,150.27999877929688,153.58999633789062,149.8699951171875,151.47999572753906,152.6999969482422,150.3699951171875,150.4199981689453,151.8300018310547,148.8800048828125,146.63999938964844,144.80999755859375,148.72000122070312,149.1300048828125,148.0,150.9199981689453,147.3000030517578,143.3699951171875,143.52000427246094,145.57000732421875,144.5,149.97000122070312,146.66000366210938,141.8000030517578,137.64999389648438,135.1999969482422,133.25,136.80999755859375,134.55999755859375,132.4199981689453,131.41000366210938,131.02999877929688,130.47999572753906,129.9499969482422,130.89999389648438,128.66000366210938,127.7699966430664,130.2899932861328,133.41000366210938,131.25999450683594,133.50999450683594,134.25999450683594,134.9199981689453,137.2899932861328,138.61000061035156,136.25,138.02000427246094,143.32000732421875,143.16000366210938,142.42999267578125,144.25,147.22999572753906,145.5500030517578,144.33999633789062,146.61000061035156,151.17999267578125,157.3800048828125,153.10000610351562,155.22999572753906,154.5800018310547,154.3300018310547,151.33999633789062,154.25999450683594,153.77000427246094,155.5,156.3300018310547,153.0,151.3000030517578,149.9499969482422,150.33999633789062,147.19000244140625,149.1699981689453,149.0800018310547,147.22999572753906,146.7100067138672,151.11000061035156,156.3000030517578,154.02999877929688,153.47000122070312,154.5399932861328,150.94000244140625,153.13999938964844,153.39999389648438,153.25,156.4600067138672,156.74000549316406,157.82000732421875,159.39999389648438,162.13999938964844,161.5500030517578,160.33999633789062,160.77000427246094,158.49000549316406,161.0500030517578,162.47000122070312,165.0,166.2899932861328,166.83999633789062,165.0500030517578,164.9600067138672,162.02999877929688,162.36000061035156,162.05999755859375,165.8000030517578,166.32000732421875,165.38999938964844,167.41000366210938,168.16000366210938,167.8699951171875,166.4499969482422,165.60000610351562,166.30999755859375,165.27999877929688,168.55999755859375,169.85000610351562,170.4499969482422,170.35000610351562,170.9199981689453,167.0399932861328,174.3000030517578,173.85000610351562,173.5399932861328,174.02999877929688,174.58999633789062,174.05999755859375,173.2100067138672,173.13999938964844,172.92999267578125,175.24000549316406,176.38999938964844,174.7100067138672,173.3800048828125,172.4199981689453,173.89999389648438,175.77000427246094,178.99000549316406,179.35000610351562,180.1199951171875,181.77999877929688,184.9499969482422,180.1199951171875,181.2100067138672,180.83999633789065,182.22999572753903,183.88999938964844,184.1499938964844,184.38999938964844,186.5200042724609,186.9900054931641,186.1000061035156,185.41000366210935,187.0500030517578,187.55999755859372,188.0500030517578,188.38999938964844,189.8999938964844,190.07000732421875,194.47999572753903,193.8800048828125,192.97999572753903,192.0200042724609,192.6699981689453,189.9900054931641,189.3000030517578,191.6999969482422,191.19000244140625,191.17999267578125,194.32000732421875,194.3300018310547,198.22999572753903,196.47000122070312,194.97000122070312,194.91000366210935,194.44000244140625,195.63999938964844,197.1999969482422,196.6300048828125,196.4900054931641,196.72999572753903,195.17999267578125,192.3699951171875,187.3800048828125,183.1300048828125,180.2700042724609,180.92999267578125,180.75,178.6199951171875,179.69000244140625,179.47999572753906,178.5399932861328,177.50999450683594,175.10000610351562,176.1300048828125,177.67999267578125,181.5500030517578,181.1000061035156,179.14999389648438,180.58999633789065,184.8999938964844,187.8500061035156],\"low\":[160.88999938964844,159.6300048828125,160.75,164.42999267578125,163.0,164.1999969482422,163.25,166.89999389648438,168.19000244140625,169.39999389648438,171.35000610351562,171.66000366210938,172.57000732421875,173.1199951171875,171.30999755859375,167.13999938964844,166.64999389648438,166.25,168.35000610351562,163.55999755859375,159.82000732421875,157.72000122070312,157.13999938964844,154.6699981689453,154.97000122070312,153.69000244140625,153.61000061035156,152.67999267578125,154.75,159.3000030517578,153.3699951171875,153.61000061035156,151.3800048828125,148.3699951171875,149.10000610351562,153.0800018310547,153.60000610351562,150.91000366210938,148.55999755859375,149.63999938964844,149.9499969482422,144.83999633789062,140.67999267578125,138.0,137.69000244140625,144.25999450683594,143.00999450683594,145.22000122070312,139.4499969482422,138.57000732421875,138.22000122070312,138.16000366210938,134.3699951171875,138.19000244140625,140.27000427246094,140.61000061035156,141.5,142.64999389648438,142.64999389648438,146.0,149.36000061035156,148.0399932861328,144.1300048828125,147.82000732421875,151.9199981689453,149.1300048828125,145.0,138.75,134.3800048828125,135.6699981689453,137.49000549316406,134.58999633789062,139.5,144.3699951171875,147.42999267578125,148.55999755859375,147.2899932861328,146.14999389648438,149.97000122070312,147.72000122070312,146.92999267578125,149.33999633789062,147.1199951171875,143.3800048828125,140.35000610351562,140.5500030517578,146.61000061035156,145.64999389648438,145.77000427246094,141.9199981689453,140.0,141.10000610351562,140.89999389648438,141.05999755859375,144.24000549316406,141.16000366210938,136.02999877929688,133.72999572753906,131.32000732421875,129.88999938964844,132.75,130.3000030517578,129.63999938964844,128.72000122070312,125.87000274658205,127.7300033569336,127.43000030517578,124.16999816894533,125.08000183105467,124.76000213623048,124.88999938964844,129.88999938964844,128.1199951171875,130.4600067138672,131.44000244140625,131.66000366210938,134.1300048828125,135.02999877929688,133.77000427246094,134.22000122070312,137.89999389648438,140.3000030517578,138.80999755859375,141.89999389648438,143.0800018310547,142.85000610351562,142.27999877929688,141.32000732421875,148.1699981689453,147.8300018310547,150.77999877929688,150.63999938964844,151.1699981689453,150.4199981689453,149.22000122070312,150.9199981689453,150.86000061035156,152.8800048828125,153.35000610351562,150.85000610351562,148.41000366210938,147.16000366210938,147.24000549316406,145.72000122070312,147.4499969482422,146.8300018310547,145.00999450683594,143.89999389648438,147.3300018310547,153.4600067138672,151.1300048828125,151.8300018310547,150.22999572753906,147.61000061035156,147.6999969482422,150.10000610351562,149.9199981689453,151.63999938964844,154.27999877929688,154.14999389648438,156.5399932861328,157.80999755859375,157.67999267578125,157.85000610351562,157.8699951171875,155.97999572753906,159.35000610351562,161.27000427246094,161.91000366210938,164.22000122070312,165.11000061035156,161.8000030517578,162.0,160.0800018310547,160.50999450683594,159.77999877929688,161.4199981689453,163.82000732421875,164.02999877929688,165.64999389648438,165.5399932861328,165.55999755859375,164.49000549316406,163.88999938964844,163.72999572753906,162.8000030517578,165.19000244140625,167.8800048828125,168.63999938964844,167.5399932861328,167.16000366210938,164.30999755859375,170.75999450683594,172.11000061035156,171.60000610351562,171.89999389648438,172.1699981689453,171.0,171.47000122070312,171.8000030517578,170.4199981689453,172.5800018310547,174.94000244140625,173.4499969482422,171.27999877929688,170.52000427246094,171.69000244140625,173.11000061035156,176.57000732421875,176.75999450683594,176.92999267578125,179.25999450683594,178.0399932861328,177.42999267578125,177.32000732421875,177.4600067138672,180.6300048828125,180.97000122070312,182.44000244140625,182.0200042724609,183.77999877929688,184.2700042724609,184.41000366210935,182.58999633789065,183.6699981689453,185.00999450683597,185.22999572753903,185.6699981689453,187.6000061035156,188.94000244140625,191.25999450683597,191.75999450683597,190.6199951171875,189.1999969482422,190.2400054931641,187.0399932861328,186.6000061035156,188.47000122070312,189.77999877929688,189.6300048828125,191.80999755859372,192.4199981689453,192.6499938964844,192.5,191.22999572753903,192.25,192.9199981689453,193.32000732421875,192.5500030517578,194.13999938964844,195.25999450683597,195.27999877929688,191.8500061035156,190.69000244140625,181.9199981689453,177.35000610351562,177.5800018310547,177.00999450683594,177.60000610351562,176.5500030517578,177.30999755859375,177.0500030517578,176.5,173.47999572753906,171.9600067138672,173.74000549316406,176.25,178.3300018310547,176.00999450683594,175.82000732421875,178.5500030517578,179.5,184.7400054931641],\"open\":[161.00999450683594,160.10000610351562,160.83999633789062,166.00999450683594,163.2100067138672,166.3699951171875,164.02000427246094,167.67999267578125,170.05999755859375,169.82000732421875,171.52000427246094,172.77999877929688,172.77000427246094,173.75,173.02999877929688,169.69000244140625,167.0800018310547,167.32000732421875,168.77999877929688,170.57000732421875,161.14999389648438,162.1300048828125,160.30999755859375,156.63999938964844,159.75,156.47000122070312,154.82000732421875,154.63999938964844,155.47000122070312,159.58999633789062,159.89999389648438,154.7899932861328,154.64999389648438,151.2100067138672,149.30999755859375,153.39999389648438,157.33999633789062,152.3800048828125,151.19000244140625,149.66000366210938,152.74000549316406,147.63999938964844,146.10000610351562,141.27999877929688,138.2100067138672,145.02999877929688,144.07000732421875,145.80999755859375,142.5399932861328,140.4199981689453,139.89999389648438,139.1300048828125,134.99000549316406,144.30999755859375,141.07000732421875,145.49000549316406,141.69000244140625,143.02000427246094,142.8699951171875,147.19000244140625,150.08999633789062,150.9600067138672,148.07000732421875,148.1999969482422,153.16000366210938,155.0800018310547,148.9499969482422,142.05999755859375,142.08999633789062,137.11000061035156,140.41000366210938,138.5,141.24000549316406,145.82000732421875,148.97000122070312,152.22000122070312,149.1300048828125,146.42999267578125,152.30999755859375,150.16000366210938,148.1300048828125,149.4499969482422,148.30999755859375,145.13999938964844,144.2899932861328,141.39999389648438,148.2100067138672,145.9600067138672,147.77000427246094,147.07000732421875,142.19000244140625,142.36000061035156,142.33999633789062,142.6999969482422,149.5,145.35000610351562,141.11000061035156,136.69000244140625,135.11000061035156,131.38999938964844,132.97999572753906,134.35000610351562,130.9199981689453,131.3800048828125,129.6699981689453,127.98999786376952,128.41000366210938,130.27999877929688,126.88999938964844,127.12999725341795,126.01000213623048,130.47000122070312,130.25999450683594,131.25,133.8800048828125,132.02999877929688,134.8300018310547,136.82000732421875,134.0800018310547,135.27999877929688,138.1199951171875,140.30999755859375,140.88999938964844,143.1699981689453,143.16000366210938,144.9600067138672,142.6999969482422,143.97000122070312,148.89999389648438,148.02999877929688,152.57000732421875,150.63999938964844,153.8800048828125,153.77999877929688,149.4600067138672,150.9499969482422,152.1199951171875,153.11000061035156,153.50999450683594,152.35000610351562,150.1999969482422,148.8699951171875,150.08999633789062,147.11000061035156,147.7100067138672,147.0500030517578,146.8300018310547,144.3800048828125,148.0399932861328,153.7899932861328,153.6999969482422,152.80999755859375,153.55999755859375,150.2100067138672,147.80999755859375,151.27999877929688,151.19000244140625,152.16000366210938,156.0800018310547,155.07000732421875,157.32000732421875,159.3000030517578,158.8300018310547,158.86000061035156,159.94000244140625,157.97000122070312,159.3699951171875,161.52999877929688,162.44000244140625,164.27000427246094,166.60000610351562,164.74000549316406,162.42999267578125,161.4199981689453,162.35000610351562,161.22000122070312,161.6300048828125,164.58999633789062,165.08999633789062,166.10000610351562,165.8000030517578,166.08999633789062,165.0500030517578,165.0,165.19000244140625,163.05999755859375,165.19000244140625,168.49000549316406,169.27999877929688,170.08999633789062,169.5,164.88999938964844,170.97999572753906,172.47999572753906,173.0500030517578,173.02000427246094,173.85000610351562,173.6199951171875,173.16000366210938,171.99000549316406,171.7100067138672,173.0,176.38999938964844,173.97999572753906,173.1300048828125,171.08999633789062,172.41000366210938,173.32000732421875,176.9600067138672,177.3300018310547,177.6999969482422,181.02999877929688,182.6300048828125,179.97000122070312,178.44000244140625,177.89999389648438,181.5,181.2700042724609,182.8000030517578,183.3699951171875,183.9600067138672,186.72999572753903,184.41000366210935,184.8999938964844,183.7400054931641,185.5500030517578,186.8300018310547,185.88999938964844,187.92999267578125,189.0800018310547,191.6300048828125,193.77999877929688,191.57000732421875,189.83999633789065,191.41000366210935,189.25999450683597,189.16000366210935,189.67999267578125,190.5,190.22999572753903,191.8999938964844,193.3500061035156,193.1000061035156,195.08999633789065,194.1000061035156,193.41000366210935,193.3300018310547,193.6699981689453,196.0200042724609,194.6699981689453,196.05999755859372,196.2400054931641,195.0399932861328,191.57000732421875,185.5200042724609,182.1300048828125,179.69000244140625,180.8699951171875,179.47999572753906,177.32000732421875,177.97000122070312,178.8800048828125,177.1300048828125,177.13999938964844,172.3000030517578,175.07000732421875,177.05999755859375,178.52000427246094,180.6699981689453,177.3800048828125,180.08999633789062,179.6999969482422,184.94000244140625],\"x\":[\"2022-08-01\",\"2022-08-02\",\"2022-08-03\",\"2022-08-04\",\"2022-08-05\",\"2022-08-08\",\"2022-08-09\",\"2022-08-10\",\"2022-08-11\",\"2022-08-12\",\"2022-08-15\",\"2022-08-16\",\"2022-08-17\",\"2022-08-18\",\"2022-08-19\",\"2022-08-22\",\"2022-08-23\",\"2022-08-24\",\"2022-08-25\",\"2022-08-26\",\"2022-08-29\",\"2022-08-30\",\"2022-08-31\",\"2022-09-01\",\"2022-09-02\",\"2022-09-06\",\"2022-09-07\",\"2022-09-08\",\"2022-09-09\",\"2022-09-12\",\"2022-09-13\",\"2022-09-14\",\"2022-09-15\",\"2022-09-16\",\"2022-09-19\",\"2022-09-20\",\"2022-09-21\",\"2022-09-22\",\"2022-09-23\",\"2022-09-26\",\"2022-09-27\",\"2022-09-28\",\"2022-09-29\",\"2022-09-30\",\"2022-10-03\",\"2022-10-04\",\"2022-10-05\",\"2022-10-06\",\"2022-10-07\",\"2022-10-10\",\"2022-10-11\",\"2022-10-12\",\"2022-10-13\",\"2022-10-14\",\"2022-10-17\",\"2022-10-18\",\"2022-10-19\",\"2022-10-20\",\"2022-10-21\",\"2022-10-24\",\"2022-10-25\",\"2022-10-26\",\"2022-10-27\",\"2022-10-28\",\"2022-10-31\",\"2022-11-01\",\"2022-11-02\",\"2022-11-03\",\"2022-11-04\",\"2022-11-07\",\"2022-11-08\",\"2022-11-09\",\"2022-11-10\",\"2022-11-11\",\"2022-11-14\",\"2022-11-15\",\"2022-11-16\",\"2022-11-17\",\"2022-11-18\",\"2022-11-21\",\"2022-11-22\",\"2022-11-23\",\"2022-11-25\",\"2022-11-28\",\"2022-11-29\",\"2022-11-30\",\"2022-12-01\",\"2022-12-02\",\"2022-12-05\",\"2022-12-06\",\"2022-12-07\",\"2022-12-08\",\"2022-12-09\",\"2022-12-12\",\"2022-12-13\",\"2022-12-14\",\"2022-12-15\",\"2022-12-16\",\"2022-12-19\",\"2022-12-20\",\"2022-12-21\",\"2022-12-22\",\"2022-12-23\",\"2022-12-27\",\"2022-12-28\",\"2022-12-29\",\"2022-12-30\",\"2023-01-03\",\"2023-01-04\",\"2023-01-05\",\"2023-01-06\",\"2023-01-09\",\"2023-01-10\",\"2023-01-11\",\"2023-01-12\",\"2023-01-13\",\"2023-01-17\",\"2023-01-18\",\"2023-01-19\",\"2023-01-20\",\"2023-01-23\",\"2023-01-24\",\"2023-01-25\",\"2023-01-26\",\"2023-01-27\",\"2023-01-30\",\"2023-01-31\",\"2023-02-01\",\"2023-02-02\",\"2023-02-03\",\"2023-02-06\",\"2023-02-07\",\"2023-02-08\",\"2023-02-09\",\"2023-02-10\",\"2023-02-13\",\"2023-02-14\",\"2023-02-15\",\"2023-02-16\",\"2023-02-17\",\"2023-02-21\",\"2023-02-22\",\"2023-02-23\",\"2023-02-24\",\"2023-02-27\",\"2023-02-28\",\"2023-03-01\",\"2023-03-02\",\"2023-03-03\",\"2023-03-06\",\"2023-03-07\",\"2023-03-08\",\"2023-03-09\",\"2023-03-10\",\"2023-03-13\",\"2023-03-14\",\"2023-03-15\",\"2023-03-16\",\"2023-03-17\",\"2023-03-20\",\"2023-03-21\",\"2023-03-22\",\"2023-03-23\",\"2023-03-24\",\"2023-03-27\",\"2023-03-28\",\"2023-03-29\",\"2023-03-30\",\"2023-03-31\",\"2023-04-03\",\"2023-04-04\",\"2023-04-05\",\"2023-04-06\",\"2023-04-10\",\"2023-04-11\",\"2023-04-12\",\"2023-04-13\",\"2023-04-14\",\"2023-04-17\",\"2023-04-18\",\"2023-04-19\",\"2023-04-20\",\"2023-04-21\",\"2023-04-24\",\"2023-04-25\",\"2023-04-26\",\"2023-04-27\",\"2023-04-28\",\"2023-05-01\",\"2023-05-02\",\"2023-05-03\",\"2023-05-04\",\"2023-05-05\",\"2023-05-08\",\"2023-05-09\",\"2023-05-10\",\"2023-05-11\",\"2023-05-12\",\"2023-05-15\",\"2023-05-16\",\"2023-05-17\",\"2023-05-18\",\"2023-05-19\",\"2023-05-22\",\"2023-05-23\",\"2023-05-24\",\"2023-05-25\",\"2023-05-26\",\"2023-05-30\",\"2023-05-31\",\"2023-06-01\",\"2023-06-02\",\"2023-06-05\",\"2023-06-06\",\"2023-06-07\",\"2023-06-08\",\"2023-06-09\",\"2023-06-12\",\"2023-06-13\",\"2023-06-14\",\"2023-06-15\",\"2023-06-16\",\"2023-06-20\",\"2023-06-21\",\"2023-06-22\",\"2023-06-23\",\"2023-06-26\",\"2023-06-27\",\"2023-06-28\",\"2023-06-29\",\"2023-06-30\",\"2023-07-03\",\"2023-07-05\",\"2023-07-06\",\"2023-07-07\",\"2023-07-10\",\"2023-07-11\",\"2023-07-12\",\"2023-07-13\",\"2023-07-14\",\"2023-07-17\",\"2023-07-18\",\"2023-07-19\",\"2023-07-20\",\"2023-07-21\",\"2023-07-24\",\"2023-07-25\",\"2023-07-26\",\"2023-07-27\",\"2023-07-28\",\"2023-07-31\",\"2023-08-01\",\"2023-08-02\",\"2023-08-03\",\"2023-08-04\",\"2023-08-07\",\"2023-08-08\",\"2023-08-09\",\"2023-08-10\",\"2023-08-11\",\"2023-08-14\",\"2023-08-15\",\"2023-08-16\",\"2023-08-17\",\"2023-08-18\",\"2023-08-21\",\"2023-08-22\",\"2023-08-23\",\"2023-08-24\",\"2023-08-25\",\"2023-08-28\",\"2023-08-29\",\"2023-08-30\"],\"type\":\"candlestick\"}],                        {\"template\":{\"data\":{\"histogram2dcontour\":[{\"type\":\"histogram2dcontour\",\"colorbar\":{\"outlinewidth\":0,\"ticks\":\"\"},\"colorscale\":[[0.0,\"#0d0887\"],[0.1111111111111111,\"#46039f\"],[0.2222222222222222,\"#7201a8\"],[0.3333333333333333,\"#9c179e\"],[0.4444444444444444,\"#bd3786\"],[0.5555555555555556,\"#d8576b\"],[0.6666666666666666,\"#ed7953\"],[0.7777777777777778,\"#fb9f3a\"],[0.8888888888888888,\"#fdca26\"],[1.0,\"#f0f921\"]]}],\"choropleth\":[{\"type\":\"choropleth\",\"colorbar\":{\"outlinewidth\":0,\"ticks\":\"\"}}],\"histogram2d\":[{\"type\":\"histogram2d\",\"colorbar\":{\"outlinewidth\":0,\"ticks\":\"\"},\"colorscale\":[[0.0,\"#0d0887\"],[0.1111111111111111,\"#46039f\"],[0.2222222222222222,\"#7201a8\"],[0.3333333333333333,\"#9c179e\"],[0.4444444444444444,\"#bd3786\"],[0.5555555555555556,\"#d8576b\"],[0.6666666666666666,\"#ed7953\"],[0.7777777777777778,\"#fb9f3a\"],[0.8888888888888888,\"#fdca26\"],[1.0,\"#f0f921\"]]}],\"heatmap\":[{\"type\":\"heatmap\",\"colorbar\":{\"outlinewidth\":0,\"ticks\":\"\"},\"colorscale\":[[0.0,\"#0d0887\"],[0.1111111111111111,\"#46039f\"],[0.2222222222222222,\"#7201a8\"],[0.3333333333333333,\"#9c179e\"],[0.4444444444444444,\"#bd3786\"],[0.5555555555555556,\"#d8576b\"],[0.6666666666666666,\"#ed7953\"],[0.7777777777777778,\"#fb9f3a\"],[0.8888888888888888,\"#fdca26\"],[1.0,\"#f0f921\"]]}],\"heatmapgl\":[{\"type\":\"heatmapgl\",\"colorbar\":{\"outlinewidth\":0,\"ticks\":\"\"},\"colorscale\":[[0.0,\"#0d0887\"],[0.1111111111111111,\"#46039f\"],[0.2222222222222222,\"#7201a8\"],[0.3333333333333333,\"#9c179e\"],[0.4444444444444444,\"#bd3786\"],[0.5555555555555556,\"#d8576b\"],[0.6666666666666666,\"#ed7953\"],[0.7777777777777778,\"#fb9f3a\"],[0.8888888888888888,\"#fdca26\"],[1.0,\"#f0f921\"]]}],\"contourcarpet\":[{\"type\":\"contourcarpet\",\"colorbar\":{\"outlinewidth\":0,\"ticks\":\"\"}}],\"contour\":[{\"type\":\"contour\",\"colorbar\":{\"outlinewidth\":0,\"ticks\":\"\"},\"colorscale\":[[0.0,\"#0d0887\"],[0.1111111111111111,\"#46039f\"],[0.2222222222222222,\"#7201a8\"],[0.3333333333333333,\"#9c179e\"],[0.4444444444444444,\"#bd3786\"],[0.5555555555555556,\"#d8576b\"],[0.6666666666666666,\"#ed7953\"],[0.7777777777777778,\"#fb9f3a\"],[0.8888888888888888,\"#fdca26\"],[1.0,\"#f0f921\"]]}],\"surface\":[{\"type\":\"surface\",\"colorbar\":{\"outlinewidth\":0,\"ticks\":\"\"},\"colorscale\":[[0.0,\"#0d0887\"],[0.1111111111111111,\"#46039f\"],[0.2222222222222222,\"#7201a8\"],[0.3333333333333333,\"#9c179e\"],[0.4444444444444444,\"#bd3786\"],[0.5555555555555556,\"#d8576b\"],[0.6666666666666666,\"#ed7953\"],[0.7777777777777778,\"#fb9f3a\"],[0.8888888888888888,\"#fdca26\"],[1.0,\"#f0f921\"]]}],\"mesh3d\":[{\"type\":\"mesh3d\",\"colorbar\":{\"outlinewidth\":0,\"ticks\":\"\"}}],\"scatter\":[{\"fillpattern\":{\"fillmode\":\"overlay\",\"size\":10,\"solidity\":0.2},\"type\":\"scatter\"}],\"parcoords\":[{\"type\":\"parcoords\",\"line\":{\"colorbar\":{\"outlinewidth\":0,\"ticks\":\"\"}}}],\"scatterpolargl\":[{\"type\":\"scatterpolargl\",\"marker\":{\"colorbar\":{\"outlinewidth\":0,\"ticks\":\"\"}}}],\"bar\":[{\"error_x\":{\"color\":\"#2a3f5f\"},\"error_y\":{\"color\":\"#2a3f5f\"},\"marker\":{\"line\":{\"color\":\"#E5ECF6\",\"width\":0.5},\"pattern\":{\"fillmode\":\"overlay\",\"size\":10,\"solidity\":0.2}},\"type\":\"bar\"}],\"scattergeo\":[{\"type\":\"scattergeo\",\"marker\":{\"colorbar\":{\"outlinewidth\":0,\"ticks\":\"\"}}}],\"scatterpolar\":[{\"type\":\"scatterpolar\",\"marker\":{\"colorbar\":{\"outlinewidth\":0,\"ticks\":\"\"}}}],\"histogram\":[{\"marker\":{\"pattern\":{\"fillmode\":\"overlay\",\"size\":10,\"solidity\":0.2}},\"type\":\"histogram\"}],\"scattergl\":[{\"type\":\"scattergl\",\"marker\":{\"colorbar\":{\"outlinewidth\":0,\"ticks\":\"\"}}}],\"scatter3d\":[{\"type\":\"scatter3d\",\"line\":{\"colorbar\":{\"outlinewidth\":0,\"ticks\":\"\"}},\"marker\":{\"colorbar\":{\"outlinewidth\":0,\"ticks\":\"\"}}}],\"scattermapbox\":[{\"type\":\"scattermapbox\",\"marker\":{\"colorbar\":{\"outlinewidth\":0,\"ticks\":\"\"}}}],\"scatterternary\":[{\"type\":\"scatterternary\",\"marker\":{\"colorbar\":{\"outlinewidth\":0,\"ticks\":\"\"}}}],\"scattercarpet\":[{\"type\":\"scattercarpet\",\"marker\":{\"colorbar\":{\"outlinewidth\":0,\"ticks\":\"\"}}}],\"carpet\":[{\"aaxis\":{\"endlinecolor\":\"#2a3f5f\",\"gridcolor\":\"white\",\"linecolor\":\"white\",\"minorgridcolor\":\"white\",\"startlinecolor\":\"#2a3f5f\"},\"baxis\":{\"endlinecolor\":\"#2a3f5f\",\"gridcolor\":\"white\",\"linecolor\":\"white\",\"minorgridcolor\":\"white\",\"startlinecolor\":\"#2a3f5f\"},\"type\":\"carpet\"}],\"table\":[{\"cells\":{\"fill\":{\"color\":\"#EBF0F8\"},\"line\":{\"color\":\"white\"}},\"header\":{\"fill\":{\"color\":\"#C8D4E3\"},\"line\":{\"color\":\"white\"}},\"type\":\"table\"}],\"barpolar\":[{\"marker\":{\"line\":{\"color\":\"#E5ECF6\",\"width\":0.5},\"pattern\":{\"fillmode\":\"overlay\",\"size\":10,\"solidity\":0.2}},\"type\":\"barpolar\"}],\"pie\":[{\"automargin\":true,\"type\":\"pie\"}]},\"layout\":{\"autotypenumbers\":\"strict\",\"colorway\":[\"#636efa\",\"#EF553B\",\"#00cc96\",\"#ab63fa\",\"#FFA15A\",\"#19d3f3\",\"#FF6692\",\"#B6E880\",\"#FF97FF\",\"#FECB52\"],\"font\":{\"color\":\"#2a3f5f\"},\"hovermode\":\"closest\",\"hoverlabel\":{\"align\":\"left\"},\"paper_bgcolor\":\"white\",\"plot_bgcolor\":\"#E5ECF6\",\"polar\":{\"bgcolor\":\"#E5ECF6\",\"angularaxis\":{\"gridcolor\":\"white\",\"linecolor\":\"white\",\"ticks\":\"\"},\"radialaxis\":{\"gridcolor\":\"white\",\"linecolor\":\"white\",\"ticks\":\"\"}},\"ternary\":{\"bgcolor\":\"#E5ECF6\",\"aaxis\":{\"gridcolor\":\"white\",\"linecolor\":\"white\",\"ticks\":\"\"},\"baxis\":{\"gridcolor\":\"white\",\"linecolor\":\"white\",\"ticks\":\"\"},\"caxis\":{\"gridcolor\":\"white\",\"linecolor\":\"white\",\"ticks\":\"\"}},\"coloraxis\":{\"colorbar\":{\"outlinewidth\":0,\"ticks\":\"\"}},\"colorscale\":{\"sequential\":[[0.0,\"#0d0887\"],[0.1111111111111111,\"#46039f\"],[0.2222222222222222,\"#7201a8\"],[0.3333333333333333,\"#9c179e\"],[0.4444444444444444,\"#bd3786\"],[0.5555555555555556,\"#d8576b\"],[0.6666666666666666,\"#ed7953\"],[0.7777777777777778,\"#fb9f3a\"],[0.8888888888888888,\"#fdca26\"],[1.0,\"#f0f921\"]],\"sequentialminus\":[[0.0,\"#0d0887\"],[0.1111111111111111,\"#46039f\"],[0.2222222222222222,\"#7201a8\"],[0.3333333333333333,\"#9c179e\"],[0.4444444444444444,\"#bd3786\"],[0.5555555555555556,\"#d8576b\"],[0.6666666666666666,\"#ed7953\"],[0.7777777777777778,\"#fb9f3a\"],[0.8888888888888888,\"#fdca26\"],[1.0,\"#f0f921\"]],\"diverging\":[[0,\"#8e0152\"],[0.1,\"#c51b7d\"],[0.2,\"#de77ae\"],[0.3,\"#f1b6da\"],[0.4,\"#fde0ef\"],[0.5,\"#f7f7f7\"],[0.6,\"#e6f5d0\"],[0.7,\"#b8e186\"],[0.8,\"#7fbc41\"],[0.9,\"#4d9221\"],[1,\"#276419\"]]},\"xaxis\":{\"gridcolor\":\"white\",\"linecolor\":\"white\",\"ticks\":\"\",\"title\":{\"standoff\":15},\"zerolinecolor\":\"white\",\"automargin\":true,\"zerolinewidth\":2},\"yaxis\":{\"gridcolor\":\"white\",\"linecolor\":\"white\",\"ticks\":\"\",\"title\":{\"standoff\":15},\"zerolinecolor\":\"white\",\"automargin\":true,\"zerolinewidth\":2},\"scene\":{\"xaxis\":{\"backgroundcolor\":\"#E5ECF6\",\"gridcolor\":\"white\",\"linecolor\":\"white\",\"showbackground\":true,\"ticks\":\"\",\"zerolinecolor\":\"white\",\"gridwidth\":2},\"yaxis\":{\"backgroundcolor\":\"#E5ECF6\",\"gridcolor\":\"white\",\"linecolor\":\"white\",\"showbackground\":true,\"ticks\":\"\",\"zerolinecolor\":\"white\",\"gridwidth\":2},\"zaxis\":{\"backgroundcolor\":\"#E5ECF6\",\"gridcolor\":\"white\",\"linecolor\":\"white\",\"showbackground\":true,\"ticks\":\"\",\"zerolinecolor\":\"white\",\"gridwidth\":2}},\"shapedefaults\":{\"line\":{\"color\":\"#2a3f5f\"}},\"annotationdefaults\":{\"arrowcolor\":\"#2a3f5f\",\"arrowhead\":0,\"arrowwidth\":1},\"geo\":{\"bgcolor\":\"white\",\"landcolor\":\"#E5ECF6\",\"subunitcolor\":\"white\",\"showland\":true,\"showlakes\":true,\"lakecolor\":\"white\"},\"title\":{\"x\":0.05},\"mapbox\":{\"style\":\"light\"}}}},                        {\"responsive\": true}                    ).then(function(){\n",
       "                            \n",
       "var gd = document.getElementById('220f74cf-4809-4fcb-9df1-99d21fb6d3b2');\n",
       "var x = new MutationObserver(function (mutations, observer) {{\n",
       "        var display = window.getComputedStyle(gd).display;\n",
       "        if (!display || display === 'none') {{\n",
       "            console.log([gd, 'removed!']);\n",
       "            Plotly.purge(gd);\n",
       "            observer.disconnect();\n",
       "        }}\n",
       "}});\n",
       "\n",
       "// Listen for the removal of the full notebook cells\n",
       "var notebookContainer = gd.closest('#notebook-container');\n",
       "if (notebookContainer) {{\n",
       "    x.observe(notebookContainer, {childList: true});\n",
       "}}\n",
       "\n",
       "// Listen for the clearing of the current output cell\n",
       "var outputEl = gd.closest('.output');\n",
       "if (outputEl) {{\n",
       "    x.observe(outputEl, {childList: true});\n",
       "}}\n",
       "\n",
       "                        })                };                            </script>        </div>\n",
       "</body>\n",
       "</html>"
      ]
     },
     "metadata": {},
     "output_type": "display_data"
    }
   ],
   "source": [
    "def create_charts(df):\n",
    "    fig = go.Figure(data=[go.Candlestick(x=df['Date'],\n",
    "    open=df['Open'],\n",
    "    high=df['High'],\n",
    "    low=df['Low'],\n",
    "    close=df['Close'])])\n",
    "    fig.show()\n",
    "\n",
    "create_charts(pd.read_csv('historial_apple.csv'))"
   ]
  },
  {
   "cell_type": "code",
   "execution_count": 16,
   "metadata": {
    "colab": {
     "base_uri": "https://localhost:8080/"
    },
    "executionInfo": {
     "elapsed": 2993,
     "status": "ok",
     "timestamp": 1693454338499,
     "user": {
      "displayName": "Sergio Sánchez",
      "userId": "15808066824487995715"
     },
     "user_tz": 300
    },
    "id": "k2RgcglkZWG4",
    "outputId": "805d2ad1-29fa-430f-9571-4df266504055"
   },
   "outputs": [
    {
     "name": "stdout",
     "output_type": "stream",
     "text": [
      "[*********************100%%**********************]  1 of 1 completed\n",
      "[*********************100%%**********************]  1 of 1 completed\n",
      "[*********************100%%**********************]  1 of 1 completed"
     ]
    },
    {
     "name": "stderr",
     "output_type": "stream",
     "text": [
      "ERROR:yfinance:\n",
      "1 Failed download:\n",
      "ERROR:yfinance:['SGRE.MC']: Exception('%ticker%: No timezone found, symbol may be delisted')\n"
     ]
    },
    {
     "name": "stdout",
     "output_type": "stream",
     "text": [
      "\n",
      "[*********************100%%**********************]  1 of 1 completed\n",
      "\n",
      "La perdida maxima de tu cartera con 150000.0 EUR\n",
      "con un nivel de confianza del 95.0% y para los siguientes 101 dias es de:\n",
      "\n",
      "A 1 dias VaR(95.0%) = nan\n",
      "A 2 dias VaR(95.0%) = nan\n",
      "A 3 dias VaR(95.0%) = nan\n",
      "A 4 dias VaR(95.0%) = nan\n",
      "A 5 dias VaR(95.0%) = nan\n",
      "A 6 dias VaR(95.0%) = nan\n",
      "A 7 dias VaR(95.0%) = nan\n",
      "A 8 dias VaR(95.0%) = nan\n",
      "A 9 dias VaR(95.0%) = nan\n",
      "A 10 dias VaR(95.0%) = nan\n",
      "A 11 dias VaR(95.0%) = nan\n",
      "A 12 dias VaR(95.0%) = nan\n",
      "A 13 dias VaR(95.0%) = nan\n",
      "A 14 dias VaR(95.0%) = nan\n",
      "A 15 dias VaR(95.0%) = nan\n",
      "A 16 dias VaR(95.0%) = nan\n",
      "A 17 dias VaR(95.0%) = nan\n",
      "A 18 dias VaR(95.0%) = nan\n",
      "A 19 dias VaR(95.0%) = nan\n",
      "A 20 dias VaR(95.0%) = nan\n",
      "A 21 dias VaR(95.0%) = nan\n",
      "A 22 dias VaR(95.0%) = nan\n",
      "A 23 dias VaR(95.0%) = nan\n",
      "A 24 dias VaR(95.0%) = nan\n",
      "A 25 dias VaR(95.0%) = nan\n",
      "A 26 dias VaR(95.0%) = nan\n",
      "A 27 dias VaR(95.0%) = nan\n",
      "A 28 dias VaR(95.0%) = nan\n",
      "A 29 dias VaR(95.0%) = nan\n",
      "A 30 dias VaR(95.0%) = nan\n",
      "A 31 dias VaR(95.0%) = nan\n",
      "A 32 dias VaR(95.0%) = nan\n",
      "A 33 dias VaR(95.0%) = nan\n",
      "A 34 dias VaR(95.0%) = nan\n",
      "A 35 dias VaR(95.0%) = nan\n",
      "A 36 dias VaR(95.0%) = nan\n",
      "A 37 dias VaR(95.0%) = nan\n",
      "A 38 dias VaR(95.0%) = nan\n",
      "A 39 dias VaR(95.0%) = nan\n",
      "A 40 dias VaR(95.0%) = nan\n",
      "A 41 dias VaR(95.0%) = nan\n",
      "A 42 dias VaR(95.0%) = nan\n",
      "A 43 dias VaR(95.0%) = nan\n",
      "A 44 dias VaR(95.0%) = nan\n",
      "A 45 dias VaR(95.0%) = nan\n",
      "A 46 dias VaR(95.0%) = nan\n",
      "A 47 dias VaR(95.0%) = nan\n",
      "A 48 dias VaR(95.0%) = nan\n",
      "A 49 dias VaR(95.0%) = nan\n",
      "A 50 dias VaR(95.0%) = nan\n",
      "A 51 dias VaR(95.0%) = nan\n",
      "A 52 dias VaR(95.0%) = nan\n",
      "A 53 dias VaR(95.0%) = nan\n",
      "A 54 dias VaR(95.0%) = nan\n",
      "A 55 dias VaR(95.0%) = nan\n",
      "A 56 dias VaR(95.0%) = nan\n",
      "A 57 dias VaR(95.0%) = nan\n",
      "A 58 dias VaR(95.0%) = nan\n",
      "A 59 dias VaR(95.0%) = nan\n",
      "A 60 dias VaR(95.0%) = nan\n",
      "A 61 dias VaR(95.0%) = nan\n",
      "A 62 dias VaR(95.0%) = nan\n",
      "A 63 dias VaR(95.0%) = nan\n",
      "A 64 dias VaR(95.0%) = nan\n",
      "A 65 dias VaR(95.0%) = nan\n",
      "A 66 dias VaR(95.0%) = nan\n",
      "A 67 dias VaR(95.0%) = nan\n",
      "A 68 dias VaR(95.0%) = nan\n",
      "A 69 dias VaR(95.0%) = nan\n",
      "A 70 dias VaR(95.0%) = nan\n",
      "A 71 dias VaR(95.0%) = nan\n",
      "A 72 dias VaR(95.0%) = nan\n",
      "A 73 dias VaR(95.0%) = nan\n",
      "A 74 dias VaR(95.0%) = nan\n",
      "A 75 dias VaR(95.0%) = nan\n",
      "A 76 dias VaR(95.0%) = nan\n",
      "A 77 dias VaR(95.0%) = nan\n",
      "A 78 dias VaR(95.0%) = nan\n",
      "A 79 dias VaR(95.0%) = nan\n",
      "A 80 dias VaR(95.0%) = nan\n",
      "A 81 dias VaR(95.0%) = nan\n",
      "A 82 dias VaR(95.0%) = nan\n",
      "A 83 dias VaR(95.0%) = nan\n",
      "A 84 dias VaR(95.0%) = nan\n",
      "A 85 dias VaR(95.0%) = nan\n",
      "A 86 dias VaR(95.0%) = nan\n",
      "A 87 dias VaR(95.0%) = nan\n",
      "A 88 dias VaR(95.0%) = nan\n",
      "A 89 dias VaR(95.0%) = nan\n",
      "A 90 dias VaR(95.0%) = nan\n",
      "A 91 dias VaR(95.0%) = nan\n",
      "A 92 dias VaR(95.0%) = nan\n",
      "A 93 dias VaR(95.0%) = nan\n",
      "A 94 dias VaR(95.0%) = nan\n",
      "A 95 dias VaR(95.0%) = nan\n",
      "A 96 dias VaR(95.0%) = nan\n",
      "A 97 dias VaR(95.0%) = nan\n",
      "A 98 dias VaR(95.0%) = nan\n",
      "A 99 dias VaR(95.0%) = nan\n",
      "A 100 dias VaR(95.0%) = nan\n"
     ]
    }
   ],
   "source": [
    "# ver video 6\n",
    "# VALUE AT RISK PARAMETRICO\n",
    "\n",
    "tickers=['TEF.MC','IBE.MC','SGRE.MC','MAP.MC']  # MC= mercado continuo\n",
    "pesos = np.array([0.5,0.2,0.2,0.1])             # Porcentaje invertida en el portafolio\n",
    "\n",
    "data = pd.DataFrame()\n",
    "for x in tickers:\n",
    "    data[x] = pdr.get_data_yahoo(x ,'2013-1-1')['Adj Close']\n",
    "\n",
    "returns = data.pct_change()                                     # retornos simples, no los logaritmicos\n",
    "cov_matrix = returns.cov()\n",
    "returns_mean = returns.mean()\n",
    "portfolio_mean = returns_mean.dot(pesos)                        # rendimiento cartera = retorno i * peso i\n",
    "portfolio_stdev = np.sqrt(pesos.T.dot(cov_matrix).dot(pesos))   # DESVIACION ESTANDAR DE UN PORTAFOLIO (riesgo)\n",
    "\n",
    "investment = float(150000)\n",
    "mean_investment = (1+portfolio_mean)*investment                 # monto de ganancia: ganacia retornada al siguiente periodo\n",
    "stdev_investment = investment * portfolio_stdev                 # monto en riesgo\n",
    "\n",
    "conf_level = 0.05\n",
    "cut = norm.ppf(conf_level, mean_investment, stdev_investment)   # Percentage point : diferencia entre porcentajes\n",
    "var_id = investment - cut                                       # Value-At-Risk\n",
    "num_days = int(101)                                             # hasta cuantos dias hara el VRisk\n",
    "\n",
    "var_array =[]\n",
    "print(('\\nLa perdida maxima de tu cartera con '+str(investment)+' EUR\\ncon un nivel de confianza del '+str((1-conf_level)*100)+'% y para los siguientes '+str(num_days)+' dias es de:\\n'))\n",
    "\n",
    "for i in range(1,num_days):\n",
    "    var_array.append(np.round(var_id*np.sqrt(i),2))\n",
    "    print(('A '+ str(i)+' dias VaR('+str((1-conf_level)*100)+'%) = '+str((np.round(var_id*np.sqrt(i),2)))))\n"
   ]
  },
  {
   "cell_type": "code",
   "execution_count": 17,
   "metadata": {
    "colab": {
     "base_uri": "https://localhost:8080/",
     "height": 489
    },
    "executionInfo": {
     "elapsed": 744,
     "status": "ok",
     "timestamp": 1693454343768,
     "user": {
      "displayName": "Sergio Sánchez",
      "userId": "15808066824487995715"
     },
     "user_tz": 300
    },
    "id": "9mwgoKBVZWG5",
    "outputId": "88f91b35-e972-46f4-e6e2-306d6de0f572"
   },
   "outputs": [
    {
     "data": {
      "text/plain": [
       "[<matplotlib.lines.Line2D at 0x782cd882c160>]"
      ]
     },
     "execution_count": 17,
     "metadata": {},
     "output_type": "execute_result"
    },
    {
     "data": {
      "image/png": "[encoded data removed]",
      "text/plain": [
       "<Figure size 640x480 with 1 Axes>"
      ]
     },
     "metadata": {},
     "output_type": "display_data"
    }
   ],
   "source": [
    "plt.xlabel('Dias')\n",
    "plt.ylabel('Perdida maxima de nuestra cartera')\n",
    "plt.title('Perida maxima de la cartera para el periodo')\n",
    "plt.plot(var_array,'b')"
   ]
  }
 ],
 "metadata": {
  "colab": {
   "provenance": []
  },
  "kernelspec": {
   "display_name": "Python 3 (ipykernel)",
   "language": "python",
   "name": "python3"
  },
  "language_info": {
   "codemirror_mode": {
    "name": "ipython",
    "version": 3
   },
   "file_extension": ".py",
   "mimetype": "text/x-python",
   "name": "python",
   "nbconvert_exporter": "python",
   "pygments_lexer": "ipython3",
   "version": "3.11.4"
  },
  "vscode": {
   "interpreter": {
    "hash": "a0a99824efc4edb3ec98e56b43c498c4e9b29c7b116d17e914bca172b47addec"
   }
  }
 },
 "nbformat": 4,
 "nbformat_minor": 4
}
