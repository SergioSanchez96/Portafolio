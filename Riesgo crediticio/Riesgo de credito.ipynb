{
 "cells": [
  {
   "cell_type": "markdown",
   "metadata": {
    "id": "7YmOleiadYFe"
   },
   "source": [
    "La SBS estima que cierto banco tiene una función de pérdidas que se\n",
    "distribuye normalmente con media de USD 0.6 MM y una desviación de\n",
    "USD 2 MM. Sabiendo que el banco tiene reservas de capital por USD 5\n",
    "MM, cuánto más capital se debe exigir para que solo haya un 0.1% de\n",
    "chances de que las pérdidas excedan el capital."
   ]
  },
  {
   "cell_type": "code",
   "execution_count": 1,
   "metadata": {
    "colab": {
     "base_uri": "https://localhost:8080/"
    },
    "executionInfo": {
     "elapsed": 6,
     "status": "ok",
     "timestamp": 1684960192467,
     "user": {
      "displayName": "Sergio Sánchez",
      "userId": "15808066824487995715"
     },
     "user_tz": 300
    },
    "id": "cS3X_fPTcrDW",
    "outputId": "78929d43-8809-4d4e-f1af-62ac61dddb34"
   },
   "outputs": [
    {
     "data": {
      "text/plain": [
       "6.780464612335626"
      ]
     },
     "execution_count": 1,
     "metadata": {},
     "output_type": "execute_result"
    }
   ],
   "source": [
    "from scipy.stats import norm\n",
    "\n",
    "expectedLoss=0.6\n",
    "sd = 2\n",
    "\n",
    "maxLossTolerable = norm(loc=expectedLoss, # media\n",
    "                        scale=sd).ppf(0.999)\n",
    "maxLossTolerable"
   ]
  },
  {
   "cell_type": "code",
   "execution_count": 2,
   "metadata": {
    "colab": {
     "base_uri": "https://localhost:8080/"
    },
    "executionInfo": {
     "elapsed": 5,
     "status": "ok",
     "timestamp": 1684960278744,
     "user": {
      "displayName": "Sergio Sánchez",
      "userId": "15808066824487995715"
     },
     "user_tz": 300
    },
    "id": "-TdPHJiXdCU3",
    "outputId": "cdd0c3d3-cd74-4ddf-9f01-c67f75cf4cbe"
   },
   "outputs": [
    {
     "data": {
      "text/plain": [
       "1.1804646123356264"
      ]
     },
     "execution_count": 2,
     "metadata": {},
     "output_type": "execute_result"
    }
   ],
   "source": [
    "actualEconomicCapital = 5\n",
    "\n",
    "ecoCapitalRequiered = maxLossTolerable - expectedLoss\n",
    "additionalEconomic = ecoCapitalRequiered-actualEconomicCapital\n",
    "additionalEconomic"
   ]
  },
  {
   "cell_type": "code",
   "execution_count": null,
   "metadata": {
    "id": "dF3W_t85dXU6"
   },
   "outputs": [],
   "source": []
  }
 ],
 "metadata": {
  "colab": {
   "authorship_tag": "ABX9TyOp9EXsixXSXU+6xaK/2H+6",
   "provenance": []
  },
  "kernelspec": {
   "display_name": "Python 3 (ipykernel)",
   "language": "python",
   "name": "python3"
  },
  "language_info": {
   "codemirror_mode": {
    "name": "ipython",
    "version": 3
   },
   "file_extension": ".py",
   "mimetype": "text/x-python",
   "name": "python",
   "nbconvert_exporter": "python",
   "pygments_lexer": "ipython3",
   "version": "3.11.4"
  }
 },
 "nbformat": 4,
 "nbformat_minor": 4
}
